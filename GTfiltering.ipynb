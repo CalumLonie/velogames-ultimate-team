{
 "cells": [
  {
   "cell_type": "code",
   "execution_count": 1,
   "metadata": {},
   "outputs": [],
   "source": [
    "import csv\n",
    "from VUTfunctions import data_read, filtering_GT, filter_out"
   ]
  },
  {
   "cell_type": "code",
   "execution_count": 10,
   "metadata": {},
   "outputs": [],
   "source": [
    "race_name = 'Italy'\n",
    "race_type = 'Grand_Tours'\n",
    "year = '2021'\n",
    "\n",
    "max_cost = 100\n",
    "n_riders = 9\n",
    "path = 'C:/Users/Calum/OneDrive/Documents/Velogames Ultimate Team/'"
   ]
  },
  {
   "cell_type": "code",
   "execution_count": 5,
   "metadata": {},
   "outputs": [],
   "source": [
    "info_ar = data_read(path, race_type, year, race_name, '_AllRounder' + '.csv')\n",
    "info_c = data_read(path, race_type, year, race_name, '_Climber' + '.csv')\n",
    "info_s = data_read(path, race_type, year, race_name, '_Sprinter' + '.csv')\n",
    "info_u = data_read(path, race_type, year, race_name, '_Unclassified' + '.csv')\n",
    "n_ar = len(info_ar)\n",
    "n_c = len(info_c)\n",
    "n_s = len(info_s)\n",
    "n_u = len(info_u)"
   ]
  },
  {
   "cell_type": "code",
   "execution_count": 6,
   "metadata": {},
   "outputs": [],
   "source": [
    "[ar_names, ar_cost, ar_points, n_ar_filtered] = filtering_GT(info_ar, n_ar, 3)\n",
    "[c_names, c_cost, c_points, n_c_filtered] = filtering_GT(info_c, n_c, 3)\n",
    "[s_names, s_cost, s_points, n_s_filtered] = filtering_GT(info_s, n_s, 2)\n",
    "[u_names, u_cost, u_points, n_u_filtered] = filtering_GT(info_u, n_u, 4)"
   ]
  },
  {
   "cell_type": "code",
   "execution_count": 18,
   "metadata": {},
   "outputs": [],
   "source": [
    "filter_out(path, race_type, year, race_name, '_AllRounder' + '.txt', ar_names, ar_cost, ar_points, n_ar_filtered)\n",
    "filter_out(path, race_type, year, race_name, '_Climber' + '.txt', c_names, c_cost, c_points, n_c_filtered)\n",
    "filter_out(path, race_type, year, race_name, '_Sprinter' + '.txt', s_names, s_cost, s_points, n_s_filtered)\n",
    "filter_out(path, race_type, year, race_name, '_Unclassified' + '.txt', u_names, u_cost, u_points, n_u_filtered)"
   ]
  },
  {
   "cell_type": "code",
   "execution_count": 17,
   "metadata": {},
   "outputs": [],
   "source": [
    "out_file = open(path + race_type + '/' + year + '/' + race_name + '_' + 'Wildcard' + '_filtered.txt', 'w')\n",
    "out_file.write('Names,Cost,Points' + '\\n')\n",
    "for r in range(n_ar_filtered):\n",
    "    out_file.write(ar_names[r] + ',' + str(ar_cost[r]) + ',' + str(ar_points[r]) + '\\n')\n",
    "for r in range(n_c_filtered):\n",
    "    out_file.write(c_names[r] + ',' + str(c_cost[r]) + ',' + str(c_points[r]) + '\\n')\n",
    "for r in range(n_s_filtered):\n",
    "    out_file.write(s_names[r] + ',' + str(s_cost[r]) + ',' + str(s_points[r]) + '\\n')\n",
    "for r in range(n_u_filtered):\n",
    "    out_file.write(u_names[r] + ',' + str(u_cost[r]) + ',' + str(u_points[r]) + '\\n')\n",
    "out_file.close()"
   ]
  }
 ],
 "metadata": {
  "kernelspec": {
   "display_name": "Python 3",
   "language": "python",
   "name": "python3"
  },
  "language_info": {
   "codemirror_mode": {
    "name": "ipython",
    "version": 3
   },
   "file_extension": ".py",
   "mimetype": "text/x-python",
   "name": "python",
   "nbconvert_exporter": "python",
   "pygments_lexer": "ipython3",
   "version": "3.7.6"
  }
 },
 "nbformat": 4,
 "nbformat_minor": 4
}
