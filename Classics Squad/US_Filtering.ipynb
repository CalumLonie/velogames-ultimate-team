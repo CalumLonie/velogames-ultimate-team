{
 "cells": [
  {
   "cell_type": "code",
   "execution_count": 1,
   "metadata": {},
   "outputs": [],
   "source": [
    "import csv"
   ]
  },
  {
   "cell_type": "code",
   "execution_count": 16,
   "metadata": {},
   "outputs": [],
   "source": [
    "gender = 'W'\n",
    "\n",
    "if gender == 'W':\n",
    "    races = ['LBL', 'DBP', 'GW', 'RVV', 'DP']\n",
    "if gender == 'M':\n",
    "    races = ['FW', 'LBL', 'DBP', 'GW', 'SP', 'RVV', 'DP']\n",
    "n_races = len(races)"
   ]
  },
  {
   "cell_type": "code",
   "execution_count": 2,
   "metadata": {},
   "outputs": [],
   "source": [
    "year = 2021\n",
    "\n",
    "if year == 2021:\n",
    "    races = ['MSR', 'BDP', 'E3', 'GW', 'DDV', 'RVV', 'SP', 'DBP', 'AGR', 'FW', 'LBL']"
   ]
  },
  {
   "cell_type": "code",
   "execution_count": 3,
   "metadata": {},
   "outputs": [],
   "source": [
    "in_file = open('Spring_Classics_2021.csv', 'r')\n",
    "info = []\n",
    "l = 0\n",
    "\n",
    "data = csv.DictReader(in_file)\n",
    "for row in data:\n",
    "    info.append(row)\n",
    "    info[l]['Cost'] = int(info[l]['Cost'])\n",
    "    for race in races:\n",
    "        info[l][race] = int(info[l][race])\n",
    "    info[l]['Total'] = int(info[l]['Total'])\n",
    "    l += 1\n",
    "in_file.close()\n",
    "\n",
    "n_all = len(info)"
   ]
  },
  {
   "cell_type": "code",
   "execution_count": 5,
   "metadata": {},
   "outputs": [
    {
     "name": "stdout",
     "output_type": "stream",
     "text": [
      "[120, 60, 75, 70, 65, 78, 76, 72, 120, 85, 120]\n"
     ]
    }
   ],
   "source": [
    "points = []\n",
    "\n",
    "for race in races:\n",
    "    set = []\n",
    "    for rider in range(n_all):\n",
    "        set.append(info[rider][race])\n",
    "    set = sorted(set, reverse = True)\n",
    "    if race == 'MSR' or race == 'RVV' or race == 'AGR' or race == 'LBL':\n",
    "        points.append(set[18])\n",
    "    else:\n",
    "        points.append(set[18])\n",
    "\n",
    "print(points)"
   ]
  },
  {
   "cell_type": "code",
   "execution_count": 6,
   "metadata": {},
   "outputs": [],
   "source": [
    "out_file = open('Spring_Classics_2021_filtered.txt', 'w')\n",
    "out_file.write('Names,Cost,')\n",
    "for race in races:\n",
    "    out_file.write(race + ',')\n",
    "out_file.write('Total' + '\\n')\n",
    "\n",
    "for rider in range(n_all):\n",
    "    filter = []\n",
    "    r = 0\n",
    "    for race in races:\n",
    "        if info[rider][race] >= points[r]:\n",
    "            filter.append(True)\n",
    "        else:\n",
    "            filter.append(False)\n",
    "        r += 1\n",
    "        \n",
    "    if True in filter:\n",
    "        out_file.write(str(info[rider]['Names']) + ',' + str(info[rider]['Cost']) + ',')\n",
    "        for race in races:\n",
    "            out_file.write(str(info[rider][race]) + ',')\n",
    "        out_file.write(str(info[rider]['Total']) + '\\n')\n",
    "        \n",
    "out_file.close()"
   ]
  }
 ],
 "metadata": {
  "kernelspec": {
   "display_name": "Python 3",
   "language": "python",
   "name": "python3"
  },
  "language_info": {
   "codemirror_mode": {
    "name": "ipython",
    "version": 3
   },
   "file_extension": ".py",
   "mimetype": "text/x-python",
   "name": "python",
   "nbconvert_exporter": "python",
   "pygments_lexer": "ipython3",
   "version": "3.7.6"
  }
 },
 "nbformat": 4,
 "nbformat_minor": 4
}
