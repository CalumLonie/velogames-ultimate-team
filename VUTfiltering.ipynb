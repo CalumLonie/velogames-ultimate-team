{
 "cells": [
  {
   "cell_type": "code",
   "execution_count": 7,
   "metadata": {},
   "outputs": [],
   "source": [
    "import csv\n",
    "from VUTfunctions import data_read, filtering, filter_out"
   ]
  },
  {
   "cell_type": "code",
   "execution_count": 8,
   "metadata": {},
   "outputs": [],
   "source": [
    "race_name = 'Milano_Sanremo'\n",
    "race_type = 'Classics_Squad'\n",
    "year = '2022'\n",
    "cat = 1\n",
    "\n",
    "max_cost = 100\n",
    "path = 'C:/Users/Calum/OneDrive/Documents/Velogames Ultimate Team/'"
   ]
  },
  {
   "cell_type": "code",
   "execution_count": 17,
   "metadata": {},
   "outputs": [],
   "source": [
    "if race_type == 'Superclasico' or race_type == 'Womens_Classics':\n",
    "    n_riders = 6\n",
    "    if cat == 1:\n",
    "        ratio = 10\n",
    "    elif cat == 2:\n",
    "        ratio = 10\n",
    "    else:\n",
    "        ratio = 10\n",
    "elif race_type == 'Stage_Races':\n",
    "    n_riders = 9\n",
    "    # Set ratio to 20 for week-long stage races\n",
    "    ratio = 20\n",
    "elif race_type == 'Classics_Squad':\n",
    "    n_riders = 12\n",
    "    ratio = 15"
   ]
  },
  {
   "cell_type": "code",
   "execution_count": 18,
   "metadata": {},
   "outputs": [],
   "source": [
    "info = data_read(path, race_type, year, race_name, '.csv')\n",
    "n_all = len(info)"
   ]
  },
  {
   "cell_type": "code",
   "execution_count": 19,
   "metadata": {},
   "outputs": [],
   "source": [
    "[filtered_names, filtered_cost, filtered_points] = filtering(info, n_all, n_riders, ratio)\n",
    "n_filtered = len(filtered_names)"
   ]
  },
  {
   "cell_type": "code",
   "execution_count": 20,
   "metadata": {},
   "outputs": [],
   "source": [
    "filter_out(path, race_type, year, race_name, '_filtered' + '.txt', filtered_names, filtered_cost, filtered_points, n_filtered)"
   ]
  }
 ],
 "metadata": {
  "kernelspec": {
   "display_name": "Python 3",
   "language": "python",
   "name": "python3"
  },
  "language_info": {
   "codemirror_mode": {
    "name": "ipython",
    "version": 3
   },
   "file_extension": ".py",
   "mimetype": "text/x-python",
   "name": "python",
   "nbconvert_exporter": "python",
   "pygments_lexer": "ipython3",
   "version": "3.7.6"
  }
 },
 "nbformat": 4,
 "nbformat_minor": 4
}
