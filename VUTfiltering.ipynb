{
 "cells": [
  {
   "cell_type": "code",
   "execution_count": 1,
   "metadata": {},
   "outputs": [],
   "source": [
    "import csv\n",
    "from VUTfunctions import data_read, filtering, filter_out"
   ]
  },
  {
   "cell_type": "code",
   "execution_count": 2,
   "metadata": {},
   "outputs": [],
   "source": [
    "race_name = 'Portugal'\n",
    "race_type = 'Stage_Races'\n",
    "year = '2022'\n",
    "cat = 11\n",
    "\n",
    "max_cost = 100\n",
    "path = 'C:/Users/Calum/OneDrive/Documents/Velogames Ultimate Team/'"
   ]
  },
  {
   "cell_type": "code",
   "execution_count": 7,
   "metadata": {},
   "outputs": [],
   "source": [
    "if race_type == 'Superclasico':\n",
    "    n_riders = 6\n",
    "    values = [10, 10, 8]\n",
    "    ratio = values[cat - 1]\n",
    "elif race_type == 'Womens_Classics':\n",
    "    n_riders = 6\n",
    "    values = [15, 10]\n",
    "    ratio = values[cat - 1]\n",
    "elif race_type == 'Stage_Races':\n",
    "    n_riders = 9\n",
    "    values = [0, 0, 12, 0, 0, 15, 20, 25, 0, 25, 30]\n",
    "    ratio = values[cat - 1]\n",
    "elif race_type == 'Classics_Squad':\n",
    "    n_riders = 12\n",
    "    values = [15, 10]\n",
    "    ratio = values[cat - 1]"
   ]
  },
  {
   "cell_type": "code",
   "execution_count": 8,
   "metadata": {},
   "outputs": [],
   "source": [
    "info = data_read(path, race_type, year, race_name, '.csv')\n",
    "n_all = len(info)"
   ]
  },
  {
   "cell_type": "code",
   "execution_count": 9,
   "metadata": {},
   "outputs": [],
   "source": [
    "[filtered_names, filtered_cost, filtered_points] = filtering(info, n_all, n_riders, ratio)\n",
    "n_filtered = len(filtered_names)"
   ]
  },
  {
   "cell_type": "code",
   "execution_count": 10,
   "metadata": {},
   "outputs": [],
   "source": [
    "filter_out(path, race_type, year, race_name, '_filtered' + '.txt', filtered_names, filtered_cost, filtered_points, n_filtered)"
   ]
  }
 ],
 "metadata": {
  "kernelspec": {
   "display_name": "Python 3",
   "language": "python",
   "name": "python3"
  },
  "language_info": {
   "codemirror_mode": {
    "name": "ipython",
    "version": 3
   },
   "file_extension": ".py",
   "mimetype": "text/x-python",
   "name": "python",
   "nbconvert_exporter": "python",
   "pygments_lexer": "ipython3",
   "version": "3.7.6"
  }
 },
 "nbformat": 4,
 "nbformat_minor": 4
}
