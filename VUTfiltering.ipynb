{
 "cells": [
  {
   "cell_type": "code",
   "execution_count": 1,
   "metadata": {},
   "outputs": [],
   "source": [
    "import csv"
   ]
  },
  {
   "cell_type": "code",
   "execution_count": 21,
   "metadata": {},
   "outputs": [],
   "source": [
    "race_name = 'Strade_Bianche'\n",
    "race_type = 'Superclasico'\n",
    "year = '2022'\n",
    "cat = 2\n",
    "\n",
    "max_cost = 100\n",
    "path = 'C:/Users/Calum/OneDrive/Documents/Velogames Ultimate Team/'"
   ]
  },
  {
   "cell_type": "code",
   "execution_count": 26,
   "metadata": {},
   "outputs": [],
   "source": [
    "if race_type == 'Superclasico' or race_type == 'Womens_Classics':\n",
    "    n_riders = 6\n",
    "    if cat == 1:\n",
    "        ratio = 15\n",
    "    elif cat == 2:\n",
    "        ratio = 13\n",
    "    else:\n",
    "        ratio = 15\n",
    "elif race_type == 'Stage_Races':\n",
    "    n_riders = 9\n",
    "    # Set ratio to 20 for week-long stage races\n",
    "    ratio = 20\n",
    "elif race_type == 'Classics_Squad':\n",
    "    n_riders = 12"
   ]
  },
  {
   "cell_type": "code",
   "execution_count": 27,
   "metadata": {},
   "outputs": [],
   "source": [
    "in_file = open(path + race_type + '/' + year + '/' + race_name + '.csv', 'r')\n",
    "info = []\n",
    "l = 0\n",
    "\n",
    "data = csv.DictReader(in_file)\n",
    "for row in data:\n",
    "    info.append(row)\n",
    "    info[l]['Cost'] = int(info[l]['Cost'])\n",
    "    info[l]['Points'] = int(info[l]['Points'])\n",
    "    l += 1\n",
    "       \n",
    "in_file.close()\n",
    "\n",
    "n_all = len(info)"
   ]
  },
  {
   "cell_type": "code",
   "execution_count": 28,
   "metadata": {},
   "outputs": [],
   "source": [
    "filtered_names = []\n",
    "filtered_cost = []\n",
    "filtered_points = []\n",
    "l = 0\n",
    "cost = 0\n",
    "counter = 0\n",
    "\n",
    "while l < n_all:\n",
    "    if info[l]['Cost'] != cost:\n",
    "        cost = info[l]['Cost']\n",
    "        counter = 1\n",
    "    else:\n",
    "        counter += 1\n",
    "    \n",
    "    if counter <= n_riders:\n",
    "        if info[l]['Points'] / info[l]['Cost'] >= ratio:\n",
    "            filtered_names.append(info[l]['Names'])\n",
    "            filtered_cost.append(info[l]['Cost'])\n",
    "            filtered_points.append(info[l]['Points'])\n",
    "    l += 1\n",
    "    \n",
    "n_filtered = len(filtered_names)"
   ]
  },
  {
   "cell_type": "code",
   "execution_count": 29,
   "metadata": {},
   "outputs": [],
   "source": [
    "out_file = open(path + race_type + '/' + year + '/' + race_name + '_filtered.txt', 'w')\n",
    "out_file.write('Names,Cost,Points' + '\\n')\n",
    "for r in range(n_filtered):\n",
    "    out_file.write(filtered_names[r] + ',' + str(filtered_cost[r]) + ',' + str(filtered_points[r]) + '\\n')\n",
    "out_file.close()"
   ]
  }
 ],
 "metadata": {
  "kernelspec": {
   "display_name": "Python 3",
   "language": "python",
   "name": "python3"
  },
  "language_info": {
   "codemirror_mode": {
    "name": "ipython",
    "version": 3
   },
   "file_extension": ".py",
   "mimetype": "text/x-python",
   "name": "python",
   "nbconvert_exporter": "python",
   "pygments_lexer": "ipython3",
   "version": "3.7.6"
  }
 },
 "nbformat": 4,
 "nbformat_minor": 4
}
