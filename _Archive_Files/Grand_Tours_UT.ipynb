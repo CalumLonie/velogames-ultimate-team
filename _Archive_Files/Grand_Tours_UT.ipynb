{
 "cells": [
  {
   "cell_type": "code",
   "execution_count": 1,
   "metadata": {},
   "outputs": [],
   "source": [
    "import csv"
   ]
  },
  {
   "cell_type": "code",
   "execution_count": 2,
   "metadata": {},
   "outputs": [],
   "source": [
    "race_name = 'Spain'\n",
    "\n",
    "# Italy: 5, 5, 5, 10 (25)  6''\n",
    "# France: 4, 7, 7, 7 (25)  3''\n",
    "# Spain: 5, 7, 3, 6 (21)  1''"
   ]
  },
  {
   "cell_type": "code",
   "execution_count": 3,
   "metadata": {},
   "outputs": [],
   "source": [
    "# For All Rounders\n",
    "allrounder_file = open(race_name + '_Allrounder' + '_Ultimate.txt', 'r')\n",
    "info_ar = []\n",
    "l_ar = 0\n",
    "\n",
    "data = csv.DictReader(allrounder_file)\n",
    "for row in data:\n",
    "    info_ar.append(row)\n",
    "    info_ar[l_ar]['Cost'] = int(info_ar[l_ar]['Cost'])\n",
    "    info_ar[l_ar]['Points'] = int(info_ar[l_ar]['Points'])\n",
    "    l_ar += 1\n",
    "       \n",
    "allrounder_file.close()\n",
    "\n",
    "# For Climbers\n",
    "climber_file = open(race_name + '_Climber' + '_Ultimate.txt', 'r')\n",
    "info_c = []\n",
    "l_c = 0\n",
    "\n",
    "data = csv.DictReader(climber_file)\n",
    "for row in data:\n",
    "    info_c.append(row)\n",
    "    info_c[l_c]['Cost'] = int(info_c[l_c]['Cost'])\n",
    "    info_c[l_c]['Points'] = int(info_c[l_c]['Points'])\n",
    "    l_c += 1\n",
    "       \n",
    "climber_file.close()\n",
    "\n",
    "# For Sprinters\n",
    "sprinter_file = open(race_name + '_Sprinter' + '_Ultimate.txt', 'r')\n",
    "info_s = []\n",
    "l_s = 0\n",
    "\n",
    "data = csv.DictReader(sprinter_file)\n",
    "for row in data:\n",
    "    info_s.append(row)\n",
    "    info_s[l_s]['Cost'] = int(info_s[l_s]['Cost'])\n",
    "    info_s[l_s]['Points'] = int(info_s[l_s]['Points'])\n",
    "    l_s += 1\n",
    "       \n",
    "sprinter_file.close()\n",
    "\n",
    "# For Unclassified\n",
    "unclassified_file = open(race_name + '_Unclassified' + '_Ultimate.txt', 'r')\n",
    "info_u = []\n",
    "l_u = 0\n",
    "\n",
    "data = csv.DictReader(unclassified_file)\n",
    "for row in data:\n",
    "    info_u.append(row)\n",
    "    info_u[l_u]['Cost'] = int(info_u[l_u]['Cost'])\n",
    "    info_u[l_u]['Points'] = int(info_u[l_u]['Points'])\n",
    "    l_u += 1\n",
    "       \n",
    "unclassified_file.close()\n",
    "\n",
    "# For Wildcard\n",
    "wildcard_file = open(race_name + '_Wildcard' + '_Ultimate.txt', 'r')\n",
    "info_w = []\n",
    "l_w = 0\n",
    "\n",
    "data = csv.DictReader(wildcard_file)\n",
    "for row in data:\n",
    "    info_w.append(row)\n",
    "    info_w[l_w]['Cost'] = int(info_w[l_w]['Cost'])\n",
    "    info_w[l_w]['Points'] = int(info_w[l_w]['Points'])\n",
    "    l_w += 1\n",
    "       \n",
    "wildcard_file.close()\n",
    "\n",
    "n_ar = len(info_ar)\n",
    "n_c = len(info_c)\n",
    "n_s = len(info_s)\n",
    "n_u = len(info_u)\n",
    "n_all = n_ar + n_c + n_s + n_u"
   ]
  },
  {
   "cell_type": "code",
   "execution_count": 4,
   "metadata": {
    "scrolled": true
   },
   "outputs": [
    {
     "name": "stdout",
     "output_type": "stream",
     "text": [
      "0\n",
      "1\n",
      "2\n",
      "3\n",
      "4\n",
      "Evaluation of all the combinations complete.\n"
     ]
    }
   ],
   "source": [
    "team_riders = []\n",
    "team_score = 0\n",
    "team_cost = 0\n",
    "\n",
    "for ar1 in range(n_ar-1):\n",
    "    print(ar1)\n",
    "    for ar2 in range(ar1+1,n_ar):\n",
    "        for c1 in range(n_c-1):\n",
    "            for c2 in range(c1+1,n_c):\n",
    "                for s in range(n_s):\n",
    "                    for u1 in range(n_u-2):\n",
    "                        for u2 in range(u1+1,n_u-1):\n",
    "                            for u3 in range(u2+1,n_u):\n",
    "                                for w in range(n_all):\n",
    "                                    if w != ar1 and w != ar2 and w != c1+n_ar and w != c2+n_ar and w != s+n_ar+n_c and w != u1+n_ar+n_c+n_s and w != u2+n_ar+n_c+n_s and w != u3+n_ar+n_c+n_s:\n",
    "                                        comb_cost = info_ar[ar1]['Cost'] + info_ar[ar2]['Cost'] + info_c[c1]['Cost'] + info_c[c2]['Cost'] + info_s[s]['Cost'] + info_u[u1]['Cost'] + info_u[u2]['Cost'] + info_u[u3]['Cost'] + info_w[w]['Cost']\n",
    "                                        if comb_cost <= 100:\n",
    "                                            comb_score = info_ar[ar1]['Points'] + info_ar[ar2]['Points'] + info_c[c1]['Points'] + info_c[c2]['Points'] + info_s[s]['Points'] + info_u[u1]['Points'] + info_u[u2]['Points'] + info_u[u3]['Points'] + info_w[w]['Points']\n",
    "                                            if comb_score > team_score:\n",
    "                                                team_riders = [info_ar[ar1]['Name'], info_ar[ar2]['Name'], info_c[c1]['Name'], info_c[c2]['Name'], info_s[s]['Name'], info_u[u1]['Name'], info_u[u2]['Name'], info_u[u3]['Name'], info_w[w]['Name']]\n",
    "                                                team_score = comb_score\n",
    "                                                team_cost = comb_cost\n",
    "                                            \n",
    "print('Evaluation of all the combinations complete.')"
   ]
  },
  {
   "cell_type": "code",
   "execution_count": 5,
   "metadata": {},
   "outputs": [],
   "source": [
    "out_file = open(str(race_name) + '_UT.txt', 'w')\n",
    "out_file.write('The Ultimate Team is:' + '\\n')\n",
    "for rider in team_riders:\n",
    "    out_file.write(str(rider) + '\\n')\n",
    "out_file.write('Scoring ' + str(team_score) + ' points.' + '\\n')\n",
    "out_file.write('Costing ' + str(team_cost) + ' credits.')\n",
    "out_file.close()"
   ]
  }
 ],
 "metadata": {
  "kernelspec": {
   "display_name": "Python 3",
   "language": "python",
   "name": "python3"
  },
  "language_info": {
   "codemirror_mode": {
    "name": "ipython",
    "version": 3
   },
   "file_extension": ".py",
   "mimetype": "text/x-python",
   "name": "python",
   "nbconvert_exporter": "python",
   "pygments_lexer": "ipython3",
   "version": "3.7.6"
  }
 },
 "nbformat": 4,
 "nbformat_minor": 4
}
