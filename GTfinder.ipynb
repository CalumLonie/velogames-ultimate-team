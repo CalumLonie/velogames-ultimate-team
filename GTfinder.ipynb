{
 "cells": [
  {
   "cell_type": "code",
   "execution_count": 1,
   "metadata": {},
   "outputs": [],
   "source": [
    "import csv\n",
    "from VUTfunctions import *"
   ]
  },
  {
   "cell_type": "code",
   "execution_count": 2,
   "metadata": {},
   "outputs": [],
   "source": [
    "race_name = 'France'\n",
    "race_type = 'Grand_Tours'\n",
    "year = '2022'\n",
    "\n",
    "max_cost = 100\n",
    "path = 'C:/Users/Calum/OneDrive/Documents/Velogames Ultimate Team/'"
   ]
  },
  {
   "cell_type": "code",
   "execution_count": 8,
   "metadata": {},
   "outputs": [],
   "source": [
    "info_ar = data_read(path, race_type, year, race_name, '_AllRounder' + '_filtered.txt')\n",
    "info_c = data_read(path, race_type, year, race_name, '_Climber' + '_filtered.txt')\n",
    "info_s = data_read(path, race_type, year, race_name, '_Sprinter' + '_filtered.txt')\n",
    "info_u = data_read(path, race_type, year, race_name, '_Unclassified' + '_filtered.txt')\n",
    "info_w = data_read(path, race_type, year, race_name, '_Wildcard' + '_filtered.txt')\n",
    "n_ar = len(info_ar)\n",
    "n_c = len(info_c)\n",
    "n_s = len(info_s)\n",
    "n_u = len(info_u)\n",
    "n_all = n_ar + n_c + n_s + n_u"
   ]
  },
  {
   "cell_type": "code",
   "execution_count": 9,
   "metadata": {},
   "outputs": [
    {
     "name": "stdout",
     "output_type": "stream",
     "text": [
      "0\n",
      "1\n",
      "2\n",
      "3\n",
      "Evaluation of all the combinations complete.\n"
     ]
    }
   ],
   "source": [
    "team_riders = []\n",
    "team_score = 0\n",
    "team_cost = 0\n",
    "\n",
    "for ar1 in range(n_ar-1):\n",
    "    print(ar1)\n",
    "    for ar2 in range(ar1+1,n_ar):\n",
    "        for c1 in range(n_c-1):\n",
    "            for c2 in range(c1+1,n_c):\n",
    "                for s in range(n_s):\n",
    "                    for u1 in range(n_u-2):\n",
    "                        for u2 in range(u1+1,n_u-1):\n",
    "                            for u3 in range(u2+1,n_u):\n",
    "                                for w in range(n_all):\n",
    "                                    rs = [ar1, ar2, c1+n_ar, c2+n_ar, s+n_ar+n_c, u1+n_ar+n_c+n_s, u2+n_ar+n_c+n_s, u3+n_ar+n_c+n_s]\n",
    "                                    if w not in rs:\n",
    "                                        rs.append(w)\n",
    "                                        comb_cost = adding(info_w, rs, 'Cost')\n",
    "                                        if comb_cost <= max_cost:\n",
    "                                            comb_score = adding(info_w, rs, 'Points')\n",
    "                                            if comb_score > team_score:\n",
    "                                                team_riders = team(info_w, rs, 'Names')\n",
    "                                                team_score = comb_score\n",
    "                                                team_cost = comb_cost\n",
    "                                                \n",
    "print('Evaluation of all the combinations complete.')"
   ]
  },
  {
   "cell_type": "code",
   "execution_count": 10,
   "metadata": {},
   "outputs": [],
   "source": [
    "out_file = open(path + race_type + '/' + year + '/' + race_name + '_UT.txt', 'w')\n",
    "out_file.write('The Ultimate Team is:' + '\\n')\n",
    "for rider in team_riders:\n",
    "    out_file.write(str(rider) + '\\n')\n",
    "out_file.write('Scoring ' + str(team_score) + ' points.' + '\\n')\n",
    "out_file.write('Costing ' + str(team_cost) + ' credits.')\n",
    "out_file.close()"
   ]
  }
 ],
 "metadata": {
  "kernelspec": {
   "display_name": "Python 3",
   "language": "python",
   "name": "python3"
  },
  "language_info": {
   "codemirror_mode": {
    "name": "ipython",
    "version": 3
   },
   "file_extension": ".py",
   "mimetype": "text/x-python",
   "name": "python",
   "nbconvert_exporter": "python",
   "pygments_lexer": "ipython3",
   "version": "3.7.6"
  }
 },
 "nbformat": 4,
 "nbformat_minor": 4
}
