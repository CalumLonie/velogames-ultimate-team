{
 "cells": [
  {
   "cell_type": "code",
   "execution_count": 5,
   "metadata": {},
   "outputs": [],
   "source": [
    "def isunique (rs, s):\n",
    "    unique = True\n",
    "    for race in range(1, n_races):\n",
    "        for indiv in s[race]:\n",
    "            if indiv in rs[race]:\n",
    "                unique = False\n",
    "                break\n",
    "                \n",
    "    return unique"
   ]
  },
  {
   "cell_type": "code",
   "execution_count": 82,
   "metadata": {
    "scrolled": true
   },
   "outputs": [
    {
     "name": "stdout",
     "output_type": "stream",
     "text": [
      "[True, True, True]\n",
      "[[0, 1, 2, 3], [2, 3, 4, 5], [0, 1, 4, 5]]\n",
      "[[], [2, 3], [2, 3]]\n"
     ]
    }
   ],
   "source": [
    "# Iteration check\n",
    "n_races = 3\n",
    "n_riders = 4\n",
    "n_all = 10\n",
    "\n",
    "rs = [[0,1,2,3], [], []]\n",
    "s = [[], [4,5], [0,1]]\n",
    "riders = [[], [0,1], [0,1]]\n",
    "same = [[], [], []]\n",
    "loops = [0,2,2]\n",
    "new_race = [True, True, True]\n",
    "\n",
    "for race in range(1,n_races):\n",
    "    for indiv in range(n_riders):\n",
    "        rs[race].append(n_all)\n",
    "        same[race].append(indiv)\n",
    "        \n",
    "for race in range(1,n_races):\n",
    "    new_race[race] = isnew(rs[race-1], s[race], riders[race], loops[race])\n",
    "print(new_race)\n",
    "        \n",
    "if False not in new_race:\n",
    "    for race in range(1,n_races):\n",
    "        rs[race] = new_rs(rs, s, riders, same, loops, race)\n",
    "print(rs)\n",
    "print(same)"
   ]
  },
  {
   "cell_type": "code",
   "execution_count": 22,
   "metadata": {},
   "outputs": [
    {
     "name": "stdout",
     "output_type": "stream",
     "text": [
      "[[], [], []]\n",
      "[[0, 1, 2, 3], [10, 10, 10, 10], [10, 10, 10, 10]]\n",
      "[[], [0, 1, 2, 3], [0, 1, 2, 3]]\n",
      "[True, True, True]\n"
     ]
    }
   ],
   "source": [
    "n_races = 3\n",
    "n_riders = 4\n",
    "n_all = 10\n",
    "rs = [[0,1,2,3], [], []]\n",
    "same = [[], [], []]\n",
    "\n",
    "same = initialise(n_races, [])\n",
    "unique = initialise(n_races, True)\n",
    "print(same)\n",
    "\n",
    "#same[1] = [0]\n",
    "#same[1].append(1)\n",
    "\n",
    "for race in range(1,n_races):\n",
    "    rs[race] = [n_all]\n",
    "    same[race] = [0]\n",
    "    for indiv in range(1,n_riders):\n",
    "        rs[race].append(n_all)\n",
    "        same[race].append(indiv)\n",
    "        \n",
    "print(rs)\n",
    "print(same)\n",
    "print(unique)"
   ]
  },
  {
   "cell_type": "code",
   "execution_count": 74,
   "metadata": {},
   "outputs": [],
   "source": [
    "def isnew (matrix, subs, loc, scope):\n",
    "    new = True\n",
    "    for indiv in range(scope):\n",
    "        if subs[indiv] in matrix:\n",
    "            new = False\n",
    "            break\n",
    "            \n",
    "    return new"
   ]
  },
  {
   "cell_type": "code",
   "execution_count": 79,
   "metadata": {},
   "outputs": [],
   "source": [
    "def new_rs (matrix, subs, loc, noc, scope, j):\n",
    "    for indiv in range(scope[j]):\n",
    "        if loc[j][indiv] in noc[j]:\n",
    "            value = loc[j][indiv]\n",
    "            noc[j].remove(value)\n",
    "            \n",
    "    for indiv in range(scope[j]):\n",
    "        matrix[j][loc[j][indiv]] = subs[j][indiv]\n",
    "    for indiv in range(len(noc[j])):\n",
    "        matrix[j][noc[j][indiv]] = matrix[j-1][noc[j][indiv]]\n",
    "    matrix[j] = sorted(matrix[j])\n",
    "    \n",
    "    return matrix[j]"
   ]
  },
  {
   "cell_type": "code",
   "execution_count": 1,
   "metadata": {},
   "outputs": [],
   "source": [
    "def initialise (n_teams, default):\n",
    "    set = []\n",
    "    for d in range(n_teams):\n",
    "        set.append(default)\n",
    "    return set"
   ]
  }
 ],
 "metadata": {
  "kernelspec": {
   "display_name": "Python 3",
   "language": "python",
   "name": "python3"
  },
  "language_info": {
   "codemirror_mode": {
    "name": "ipython",
    "version": 3
   },
   "file_extension": ".py",
   "mimetype": "text/x-python",
   "name": "python",
   "nbconvert_exporter": "python",
   "pygments_lexer": "ipython3",
   "version": "3.7.6"
  }
 },
 "nbformat": 4,
 "nbformat_minor": 4
}
