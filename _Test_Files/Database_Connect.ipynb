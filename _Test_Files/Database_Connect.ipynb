{
 "cells": [
  {
   "cell_type": "code",
   "execution_count": 73,
   "metadata": {},
   "outputs": [],
   "source": [
    "import csv"
   ]
  },
  {
   "cell_type": "code",
   "execution_count": 18,
   "metadata": {},
   "outputs": [
    {
     "name": "stdout",
     "output_type": "stream",
     "text": [
      "['Christine Majerus', ' 14', ' 50']\n",
      "[]\n",
      "['Lorena Wiebes', ' 14', ' 160']\n",
      "[]\n",
      "['Elisa Longo Borghini', ' 14', ' 90']\n"
     ]
    }
   ],
   "source": [
    "in_file = open('Database.txt', 'r')\n",
    "\n",
    "for l in range(3):\n",
    "    rider = in_file.readline()\n",
    "    data = csv.reader(rider.split(\"\\n\"))\n",
    "    for row in data:\n",
    "        print(row)\n",
    "    l += 1\n",
    "    \n",
    "in_file.close()"
   ]
  },
  {
   "cell_type": "code",
   "execution_count": 30,
   "metadata": {},
   "outputs": [
    {
     "name": "stdout",
     "output_type": "stream",
     "text": [
      "['Christine Majerus', ' 14', ' 50']\n",
      " 50\n",
      "['Lorena Wiebes', ' 14', ' 160']\n",
      " 160\n",
      "['Elisa Longo Borghini', ' 14', ' 90']\n",
      " 90\n"
     ]
    }
   ],
   "source": [
    "in_file = open('Database.txt', 'r')\n",
    "table = []\n",
    "\n",
    "data = csv.reader(in_file)\n",
    "for row in data:\n",
    "    table.append(row)\n",
    "    print(row)\n",
    "    print(row[2])\n",
    "\n",
    "in_file.close()\n",
    "#print(table)"
   ]
  },
  {
   "cell_type": "code",
   "execution_count": 94,
   "metadata": {
    "scrolled": true
   },
   "outputs": [],
   "source": [
    "in_file = open('Database.txt', 'r')\n",
    "info = []\n",
    "l = 0\n",
    "\n",
    "data = csv.DictReader(in_file)\n",
    "for row in data:\n",
    "    #print(row)\n",
    "    #print(row['Name'], row['Cost'], row['Points'])\n",
    "    info.append(row)\n",
    "    info[l]['Cost'] = int(info[l]['Cost'])\n",
    "    info[l]['Points'] = int(info[l]['Points'])\n",
    "    l += 1\n",
    "       \n",
    "in_file.close()\n",
    "\n",
    "#print(info)\n",
    "#print(int(info['Points']))\n",
    "#print(info)\n",
    "#print(info[0]['Points'])"
   ]
  },
  {
   "cell_type": "code",
   "execution_count": null,
   "metadata": {},
   "outputs": [],
   "source": []
  }
 ],
 "metadata": {
  "kernelspec": {
   "display_name": "Python 3",
   "language": "python",
   "name": "python3"
  },
  "language_info": {
   "codemirror_mode": {
    "name": "ipython",
    "version": 3
   },
   "file_extension": ".py",
   "mimetype": "text/x-python",
   "name": "python",
   "nbconvert_exporter": "python",
   "pygments_lexer": "ipython3",
   "version": "3.7.6"
  }
 },
 "nbformat": 4,
 "nbformat_minor": 4
}
