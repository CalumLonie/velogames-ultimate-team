{
 "cells": [
  {
   "cell_type": "code",
   "execution_count": 1,
   "metadata": {},
   "outputs": [],
   "source": [
    "import csv\n",
    "from VUT_Functions import *"
   ]
  },
  {
   "cell_type": "code",
   "execution_count": 2,
   "metadata": {},
   "outputs": [],
   "source": [
    "race_name = 'Strade_Bianche'\n",
    "race_type = 'Superclassico'\n",
    "year = '2022'\n",
    "\n",
    "max_cost = 100\n",
    "path = 'C:/Users/Calum/OneDrive/Documents/Velogames Ultimate Team/'"
   ]
  },
  {
   "cell_type": "code",
   "execution_count": 3,
   "metadata": {},
   "outputs": [],
   "source": [
    "if race_type == 'Superclassico' or race_type == 'Womens_Classics':\n",
    "    n_riders = 6\n",
    "    ext = '.csv'\n",
    "elif race_type == 'Stage_Races':\n",
    "    n_riders = 9\n",
    "    ext = '.txt'\n",
    "elif race_type == 'Classics_Squad':\n",
    "    n_riders = 12\n",
    "    ext = '.txt'"
   ]
  },
  {
   "cell_type": "code",
   "execution_count": 4,
   "metadata": {},
   "outputs": [],
   "source": [
    "in_file = open(path + race_type + '/' + year + '/' + race_name + ext, 'r')\n",
    "info = []\n",
    "l = 0\n",
    "\n",
    "data = csv.DictReader(in_file)\n",
    "for row in data:\n",
    "    info.append(row)\n",
    "    info[l]['Cost'] = int(info[l]['Cost'])\n",
    "    info[l]['Points'] = int(info[l]['Points'])\n",
    "    l += 1\n",
    "       \n",
    "in_file.close()\n",
    "\n",
    "n_all = len(info)"
   ]
  },
  {
   "cell_type": "code",
   "execution_count": 5,
   "metadata": {},
   "outputs": [
    {
     "name": "stdout",
     "output_type": "stream",
     "text": [
      "0\n",
      "1\n",
      "2\n",
      "3\n",
      "4\n",
      "5\n",
      "6\n",
      "7\n",
      "8\n",
      "9\n",
      "10\n",
      "11\n",
      "12\n",
      "13\n",
      "14\n",
      "15\n",
      "16\n",
      "17\n",
      "18\n",
      "19\n",
      "20\n",
      "21\n",
      "22\n",
      "23\n",
      "24\n",
      "25\n",
      "26\n",
      "27\n",
      "28\n",
      "29\n",
      "30\n",
      "31\n",
      "32\n",
      "33\n",
      "34\n",
      "35\n",
      "36\n",
      "37\n",
      "38\n",
      "39\n",
      "40\n",
      "41\n",
      "42\n",
      "43\n",
      "44\n",
      "45\n",
      "46\n",
      "47\n",
      "48\n",
      "Evaluation of all the combinations complete.\n"
     ]
    }
   ],
   "source": [
    "team_riders = []\n",
    "team_score = 0\n",
    "team_cost = 0\n",
    "\n",
    "rs = []\n",
    "for j in range(n_riders):\n",
    "    rs.append(j)    \n",
    "rs_complete = initialise(n_riders, False)\n",
    "rs_finished = False\n",
    "\n",
    "while rs_finished == False:\n",
    "\n",
    "    comb_cost = adding(info, rs, 'Cost')\n",
    "    if comb_cost <= max_cost:\n",
    "        comb_score = adding(info, rs, 'Points')\n",
    "        if comb_score > team_score:\n",
    "            team_riders = team(info, rs, 'Names')\n",
    "            team_score = comb_score\n",
    "            team_cost = comb_cost\n",
    "            \n",
    "    rs = rs_iterate(rs, rs_complete, n_riders)\n",
    "    rs_complete = complete_checker(rs, rs_complete, n_riders, n_all)\n",
    "    rs_finished = finished_checker(rs_complete, n_riders)\n",
    "\n",
    "print('Evaluation of all the combinations complete.')"
   ]
  },
  {
   "cell_type": "code",
   "execution_count": 7,
   "metadata": {},
   "outputs": [],
   "source": [
    "out_file = open(path + race_type + '/' + year + '/' + race_name + '_UT.txt', 'w')\n",
    "out_file.write('The Ultimate Team is:' + '\\n')\n",
    "for rider in team_riders:\n",
    "    out_file.write(str(rider) + '\\n')\n",
    "out_file.write('Scoring ' + str(team_score) + ' points.' + '\\n')\n",
    "out_file.write('Costing ' + str(team_cost) + ' credits.')\n",
    "out_file.close()"
   ]
  }
 ],
 "metadata": {
  "kernelspec": {
   "display_name": "Python 3",
   "language": "python",
   "name": "python3"
  },
  "language_info": {
   "codemirror_mode": {
    "name": "ipython",
    "version": 3
   },
   "file_extension": ".py",
   "mimetype": "text/x-python",
   "name": "python",
   "nbconvert_exporter": "python",
   "pygments_lexer": "ipython3",
   "version": "3.7.6"
  }
 },
 "nbformat": 4,
 "nbformat_minor": 4
}
