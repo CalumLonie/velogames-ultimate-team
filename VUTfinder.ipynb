{
 "cells": [
  {
   "cell_type": "code",
   "execution_count": 1,
   "metadata": {},
   "outputs": [],
   "source": [
    "import csv\n",
    "from VUTfunctions import *"
   ]
  },
  {
   "cell_type": "code",
   "execution_count": 12,
   "metadata": {},
   "outputs": [],
   "source": [
    "race_name = 'Ronde_Van_Vlaanderen'\n",
    "race_type = 'Womens_Classics'\n",
    "year = '2022'\n",
    "\n",
    "max_cost = 100\n",
    "path = 'C:/Users/Calum/OneDrive/Documents/Velogames Ultimate Team/'"
   ]
  },
  {
   "cell_type": "code",
   "execution_count": 13,
   "metadata": {},
   "outputs": [],
   "source": [
    "if race_type == 'Superclasico' or race_type == 'Womens_Classics':\n",
    "    n_riders = 6\n",
    "elif race_type == 'Stage_Races':\n",
    "    n_riders = 9\n",
    "elif race_type == 'Classics_Squad':\n",
    "    n_riders = 12"
   ]
  },
  {
   "cell_type": "code",
   "execution_count": 14,
   "metadata": {},
   "outputs": [],
   "source": [
    "info = data_read(path, race_type, year, race_name, '_filtered' + '.txt')\n",
    "n_all = len(info)"
   ]
  },
  {
   "cell_type": "code",
   "execution_count": 15,
   "metadata": {},
   "outputs": [
    {
     "name": "stdout",
     "output_type": "stream",
     "text": [
      "0\n",
      "1\n",
      "2\n",
      "3\n",
      "4\n",
      "5\n",
      "6\n",
      "7\n",
      "8\n",
      "9\n",
      "10\n",
      "Evaluation of all the combinations complete.\n"
     ]
    }
   ],
   "source": [
    "team_riders = []\n",
    "team_score = 0\n",
    "team_cost = 0\n",
    "\n",
    "rs = []\n",
    "for j in range(n_riders):\n",
    "    rs.append(j)    \n",
    "rs_complete = initialise(n_riders, False)\n",
    "rs_finished = False\n",
    "\n",
    "while rs_finished == False:\n",
    "\n",
    "    comb_cost = adding(info, rs, 'Cost')\n",
    "    if comb_cost <= max_cost:\n",
    "        comb_score = adding(info, rs, 'Points')\n",
    "        if comb_score > team_score:\n",
    "            team_riders = team(info, rs, 'Names')\n",
    "            team_score = comb_score\n",
    "            team_cost = comb_cost\n",
    "            \n",
    "    rs = rs_iterate(rs, rs_complete, n_riders)\n",
    "    rs_complete = complete_checker(rs, rs_complete, n_riders, n_all)\n",
    "    rs_finished = finished_checker(rs_complete, n_riders)\n",
    "\n",
    "print('Evaluation of all the combinations complete.')"
   ]
  },
  {
   "cell_type": "code",
   "execution_count": 16,
   "metadata": {},
   "outputs": [],
   "source": [
    "out_file = open(path + race_type + '/' + year + '/' + race_name + '_UT.txt', 'w')\n",
    "out_file.write('The Ultimate Team is:' + '\\n')\n",
    "for rider in team_riders:\n",
    "    out_file.write(str(rider) + '\\n')\n",
    "out_file.write('Scoring ' + str(team_score) + ' points.' + '\\n')\n",
    "out_file.write('Costing ' + str(team_cost) + ' credits.')\n",
    "out_file.close()"
   ]
  }
 ],
 "metadata": {
  "kernelspec": {
   "display_name": "Python 3",
   "language": "python",
   "name": "python3"
  },
  "language_info": {
   "codemirror_mode": {
    "name": "ipython",
    "version": 3
   },
   "file_extension": ".py",
   "mimetype": "text/x-python",
   "name": "python",
   "nbconvert_exporter": "python",
   "pygments_lexer": "ipython3",
   "version": "3.7.6"
  }
 },
 "nbformat": 4,
 "nbformat_minor": 4
}
