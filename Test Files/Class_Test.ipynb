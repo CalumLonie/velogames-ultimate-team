{
 "cells": [
  {
   "cell_type": "code",
   "execution_count": 1,
   "metadata": {},
   "outputs": [],
   "source": [
    "import csv"
   ]
  },
  {
   "cell_type": "code",
   "execution_count": 2,
   "metadata": {},
   "outputs": [],
   "source": [
    "race_name = 'Test'\n",
    "n_teams = 10\n",
    "n_riders = 7"
   ]
  },
  {
   "cell_type": "code",
   "execution_count": 3,
   "metadata": {},
   "outputs": [],
   "source": [
    "def initialise (n_teams, default):\n",
    "    set = []\n",
    "    for d in range(n_teams):\n",
    "        set.append(default)\n",
    "    return set"
   ]
  },
  {
   "cell_type": "code",
   "execution_count": 4,
   "metadata": {},
   "outputs": [],
   "source": [
    "def assignment (set, comb, n_teams, index, default):\n",
    "    new_set = initialise(n_teams, default)\n",
    "    inter = set[0:index]\n",
    "    \n",
    "    if inter != []:\n",
    "        new_set[0:index] = inter\n",
    "        \n",
    "    new_set[index] = comb\n",
    "    \n",
    "    for r in range(index+1, n_teams):\n",
    "        new_set[r] = set[r-1]\n",
    "    \n",
    "    return new_set"
   ]
  },
  {
   "cell_type": "code",
   "execution_count": 5,
   "metadata": {},
   "outputs": [],
   "source": [
    "def sorting (into, info_w):\n",
    "    out_c = sorted([into[0], into[1]])\n",
    "    out_s = sorted([into[2], into[3]])\n",
    "    out_tt = sorted([into[4], into[5]])\n",
    "                    \n",
    "    for row in range(len(info_w)):\n",
    "        if into[6] == info_w[row]['Name']:\n",
    "            j = row\n",
    "            break\n",
    "    \n",
    "    if j+1 <= n_c:\n",
    "        out_c.append(into[6])\n",
    "        out_c = sorted(out_c)\n",
    "    elif j+1 <= n_c + n_s:\n",
    "        out_s.append(into[6])\n",
    "        out_s = sorted(out_s)\n",
    "    else:\n",
    "        out_tt.append(into[6])\n",
    "        out_tt = sorted(out_tt)\n",
    "        \n",
    "    return out_c, out_s, out_tt"
   ]
  },
  {
   "cell_type": "code",
   "execution_count": 6,
   "metadata": {},
   "outputs": [],
   "source": [
    "def checker (comb_riders, set_riders, info_w, n_teams):\n",
    "    [comb_c_sort, comb_s_sort, comb_tt_sort] = sorting(comb_riders, info_w)\n",
    "    \n",
    "    for team in range(n_teams):\n",
    "        if set_riders[team] != []:\n",
    "            [set_c_sort, set_s_sort, set_tt_sort] = sorting(set_riders[team], info_w)\n",
    "            unique = True\n",
    "            counter = 0\n",
    "            if comb_c_sort == set_c_sort:\n",
    "                counter += 1\n",
    "            if comb_s_sort == set_s_sort:\n",
    "                counter += 1\n",
    "            if comb_tt_sort == set_tt_sort:\n",
    "                counter += 1\n",
    "            if counter == 3:\n",
    "                unique = False\n",
    "                break\n",
    "        else:\n",
    "            unique = True\n",
    "            \n",
    "    return unique"
   ]
  },
  {
   "cell_type": "code",
   "execution_count": 7,
   "metadata": {},
   "outputs": [],
   "source": [
    "# For Climbers\n",
    "climber_file = open(race_name + '_Climber' + '.txt', 'r')\n",
    "info_c = []\n",
    "l_c = 0\n",
    "\n",
    "data = csv.DictReader(climber_file)\n",
    "for row in data:\n",
    "    info_c.append(row)\n",
    "    info_c[l_c]['Cost'] = int(info_c[l_c]['Cost'])\n",
    "    info_c[l_c]['Points'] = int(info_c[l_c]['Points'])\n",
    "    l_c += 1\n",
    "       \n",
    "climber_file.close()\n",
    "\n",
    "# For Sprinters\n",
    "sprinter_file = open(race_name + '_Sprinter' + '.txt', 'r')\n",
    "info_s = []\n",
    "l_s = 0\n",
    "\n",
    "data = csv.DictReader(sprinter_file)\n",
    "for row in data:\n",
    "    info_s.append(row)\n",
    "    info_s[l_s]['Cost'] = int(info_s[l_s]['Cost'])\n",
    "    info_s[l_s]['Points'] = int(info_s[l_s]['Points'])\n",
    "    l_s += 1\n",
    "       \n",
    "sprinter_file.close()\n",
    "\n",
    "# For TTers\n",
    "tt_file = open(race_name + '_TT' + '.txt', 'r')\n",
    "info_tt = []\n",
    "l_tt = 0\n",
    "\n",
    "data = csv.DictReader(tt_file)\n",
    "for row in data:\n",
    "    info_tt.append(row)\n",
    "    info_tt[l_tt]['Cost'] = int(info_tt[l_tt]['Cost'])\n",
    "    info_tt[l_tt]['Points'] = int(info_tt[l_tt]['Points'])\n",
    "    l_tt += 1\n",
    "       \n",
    "tt_file.close()\n",
    "\n",
    "# For Wildcard\n",
    "wildcard_file = open(race_name + '_Wildcard' + '.txt', 'r')\n",
    "info_w = []\n",
    "l_w = 0\n",
    "\n",
    "data = csv.DictReader(wildcard_file)\n",
    "for row in data:\n",
    "    info_w.append(row)\n",
    "    info_w[l_w]['Cost'] = int(info_w[l_w]['Cost'])\n",
    "    info_w[l_w]['Points'] = int(info_w[l_w]['Points'])\n",
    "    l_w += 1\n",
    "       \n",
    "wildcard_file.close()\n",
    "\n",
    "n_c = len(info_c)\n",
    "n_s = len(info_s)\n",
    "n_tt = len(info_tt)\n",
    "n_all = n_c + n_s + n_tt"
   ]
  },
  {
   "cell_type": "code",
   "execution_count": 8,
   "metadata": {},
   "outputs": [],
   "source": [
    "set_riders = initialise(n_teams, [])\n",
    "set_scores = initialise(n_teams, 0)\n",
    "set_costs = initialise(n_teams, 0)\n",
    "\n",
    "for c1 in range(n_c-1):\n",
    "    for c2 in range(c1+1,n_c):\n",
    "        for s1 in range(n_s-1):\n",
    "            for s2 in range(s1+1,n_s):\n",
    "                for tt1 in range(n_tt-1):\n",
    "                    for tt2 in range(tt1+1,n_tt):\n",
    "                        for w in range(n_all):\n",
    "                            if w != c1 and w != c2 and w != s1+n_c and w != s2+n_c and w != tt1+n_c+n_s and w != tt2+n_c+n_s:\n",
    "                                comb_cost = info_c[c1]['Cost'] + info_c[c2]['Cost'] + info_s[s1]['Cost'] + info_s[s2]['Cost'] + info_tt[tt1]['Cost'] + info_tt[tt2]['Cost'] + info_w[w]['Cost']\n",
    "                                if comb_cost <= 44:\n",
    "                                    comb_riders = [info_c[c1]['Name'], info_c[c2]['Name'], info_s[s1]['Name'], info_s[s2]['Name'], info_tt[tt1]['Name'], info_tt[tt2]['Name'], info_w[w]['Name']]\n",
    "                                    comb_score = info_c[c1]['Points'] + info_c[c2]['Points'] + info_s[s1]['Points'] + info_s[s2]['Points'] + info_tt[tt1]['Points'] + info_tt[tt2]['Points'] + info_w[w]['Points']\n",
    "                                    unique = checker(comb_riders, set_riders, info_w, n_teams)\n",
    "                                    for index in range(n_teams):\n",
    "                                        if comb_score > set_scores[index] and unique:\n",
    "                                            set_riders = assignment(set_riders, comb_riders, n_teams, index, [])\n",
    "                                            set_scores = assignment(set_scores, comb_score, n_teams, index, 0)\n",
    "                                            set_costs = assignment(set_costs, comb_cost, n_teams, index, 0)\n",
    "                                            unique = False"
   ]
  },
  {
   "cell_type": "code",
   "execution_count": 9,
   "metadata": {},
   "outputs": [],
   "source": [
    "out_file = open(str(race_name) + '_Top' + str(n_teams) + '.txt', 'w')\n",
    "for team in range(n_teams):\n",
    "    out_file.write('Team number ' + str(team+1) + ':' + '\\n')\n",
    "    for rider in range(n_riders):\n",
    "        out_file.write(set_riders[team][rider] + '\\n')\n",
    "    out_file.write('Scoring ' + str(set_scores[team]) + ' points.' + '\\n')\n",
    "    out_file.write('Costing ' + str(set_costs[team]) + ' credits.' + '\\n')\n",
    "    out_file.write('\\n')\n",
    "out_file.close()\n",
    "\n",
    "UT_file = open(str(race_name) + '_UT.txt', 'w')\n",
    "UT_file.write('The Ultimate Team is:' + '\\n')\n",
    "for rider in range(n_riders):\n",
    "    UT_file.write(str(set_riders[0][rider]) + '\\n')\n",
    "UT_file.write('Scoring ' + str(set_scores[0]) + ' points.' + '\\n')\n",
    "UT_file.write('Costing ' + str(set_costs[0]) + ' credits.')\n",
    "UT_file.close()"
   ]
  },
  {
   "cell_type": "code",
   "execution_count": 10,
   "metadata": {
    "scrolled": true
   },
   "outputs": [
    {
     "name": "stdout",
     "output_type": "stream",
     "text": [
      "[630, 630, 630, 625, 625, 625, 625, 625, 625, 625]\n",
      "['Dan Martin', 'Emmanuel Buchmann', 'Caleb Ewan', 'Arnaud Demare', 'Ryan Mullen', 'Joao Almeida', 'Nairo Quintana']\n",
      "['Emmanuel Buchmann', 'Nairo Quintana', 'Caleb Ewan', 'Arnaud Demare', 'Tom Dumoulin', 'Ryan Mullen', 'Joao Almeida']\n",
      "['Emmanuel Buchmann', 'Nairo Quintana', 'Arnaud Demare', 'Giacomo Nizzolo', 'Filippo Ganna', 'Ryan Mullen', 'Joao Almeida']\n",
      "['Dan Martin', 'Emmanuel Buchmann', 'Caleb Ewan', 'Giacomo Nizzolo', 'Ryan Mullen', 'Joao Almeida', 'Nairo Quintana']\n",
      "['Dan Martin', 'Emmanuel Buchmann', 'Arnaud Demare', 'Giacomo Nizzolo', 'Alex Dowsett', 'Joao Almeida', 'Nairo Quintana']\n"
     ]
    }
   ],
   "source": [
    "# This shows if my modifications are working\n",
    "print(set_scores)\n",
    "print(set_riders[0])\n",
    "print(set_riders[1])\n",
    "print(set_riders[2])\n",
    "print(set_riders[3])\n",
    "print(set_riders[4])"
   ]
  },
  {
   "cell_type": "code",
   "execution_count": 16,
   "metadata": {},
   "outputs": [
    {
     "name": "stdout",
     "output_type": "stream",
     "text": [
      "[[], [], [], [], [], [], [], [], [], []]\n",
      "[0, 0, 0, 0, 0, 0, 0, 0, 0, 0]\n",
      "[0, 0, 0, 0, 0, 0, 0, 0, 0, 0]\n"
     ]
    }
   ],
   "source": [
    "set_riders = initialise(n_teams, [])\n",
    "set_scores = initialise(n_teams, 0)\n",
    "set_costs = initialise(n_teams, 0)\n",
    "\n",
    "print(set_riders)\n",
    "print(set_scores)\n",
    "print(set_costs)"
   ]
  },
  {
   "cell_type": "code",
   "execution_count": 81,
   "metadata": {},
   "outputs": [
    {
     "name": "stdout",
     "output_type": "stream",
     "text": [
      "[50, 40, 0, 0, 0, 0, 0, 0, 0, 0]\n",
      "[]\n",
      "['Nairo Quintana', 'David Gaudu', 'Andre Greipel', 'Giacomo Nizzolo', 'Victor Campenaerts', 'Joao Almeida', 'Alex Dowsett']\n",
      "[]\n",
      "[]\n",
      "[]\n"
     ]
    }
   ],
   "source": [
    "set_riders = initialise(n_teams, [])\n",
    "#set_scores = initialise(n_teams, 0)\n",
    "set_scores = [50, 0, 0, 0, 0, 0, 0, 0, 0, 0]\n",
    "set_costs = initialise(n_teams, 0)\n",
    "\n",
    "comb_score = 40\n",
    "\n",
    "replaced = False\n",
    "for index in range(n_teams):\n",
    "    if comb_score > set_scores[index] and not replaced:\n",
    "        set_riders = assignment(set_riders, comb_riders, n_teams, index)\n",
    "        set_scores = assignment(set_scores, comb_score, n_teams, index)\n",
    "        set_costs = assignment(set_costs, comb_cost, n_teams, index)\n",
    "        replaced = True\n",
    "        \n",
    "print(set_scores)\n",
    "print(set_riders[0])\n",
    "print(set_riders[1])\n",
    "print(set_riders[2])\n",
    "print(set_riders[3])\n",
    "print(set_riders[4])"
   ]
  },
  {
   "cell_type": "code",
   "execution_count": 66,
   "metadata": {},
   "outputs": [
    {
     "name": "stdout",
     "output_type": "stream",
     "text": [
      "['Dan Martin', 'Sam Bennett', 'Sean Kelly', 'Shay Elliott']\n",
      "Dan Martin\n",
      "[[], [], [], [], [], [], [], [], [], []]\n"
     ]
    }
   ],
   "source": [
    "# Want to try and sort the classes of riders alphabetically\n",
    "# This could be trickier because of the wildcard\n",
    "# Need to try the .sort() and .sorted() functions\n",
    "\n",
    "test_riders = ['Shay Elliott', 'Sean Kelly', 'Dan Martin', 'Sam Bennett']\n",
    "test_riders = sorted(test_riders)\n",
    "print(test_riders)\n",
    "\n",
    "test_set_riders = [test_riders, [], []]\n",
    "test_into = test_set_riders[0]\n",
    "print(test_into[0])\n",
    "print(set_riders)"
   ]
  },
  {
   "cell_type": "code",
   "execution_count": 69,
   "metadata": {},
   "outputs": [
    {
     "name": "stdout",
     "output_type": "stream",
     "text": [
      "[[], [], [], [], [], [], [], [], [], []]\n",
      "This could do\n"
     ]
    }
   ],
   "source": [
    "print(set_riders)\n",
    "test_null = []\n",
    "if test_null == []:\n",
    "    print('This could do')"
   ]
  },
  {
   "cell_type": "code",
   "execution_count": 44,
   "metadata": {},
   "outputs": [
    {
     "name": "stdout",
     "output_type": "stream",
     "text": [
      "True\n"
     ]
    }
   ],
   "source": [
    "test_name = 'Dan Martin'\n",
    "for row in range(len(info_c)):\n",
    "    if test_name == info_c[row]['Name']:\n",
    "        found = True\n",
    "        break\n",
    "    else:\n",
    "        found = False\n",
    "        \n",
    "print(found)"
   ]
  },
  {
   "cell_type": "code",
   "execution_count": 46,
   "metadata": {},
   "outputs": [
    {
     "name": "stdout",
     "output_type": "stream",
     "text": [
      "This does not work.\n",
      "[]\n"
     ]
    }
   ],
   "source": [
    "test_index = 0\n",
    "#test_inter = []\n",
    "test_new_set = [0, 0, 0]\n",
    "test_inter = test_new_set[0:test_index]\n",
    "if test_inter != []:\n",
    "    print('This works.')\n",
    "else:\n",
    "    print('This does not work.')\n",
    "print(test_inter)"
   ]
  },
  {
   "cell_type": "code",
   "execution_count": 8,
   "metadata": {},
   "outputs": [
    {
     "name": "stdout",
     "output_type": "stream",
     "text": [
      "['Dan Martin', 'Sam Bennett', 'Tom Dumoulin']\n",
      "270\n"
     ]
    }
   ],
   "source": [
    "test_team = [info_c[0]['Name'], info_s[0]['Name'], info_tt[0]['Name']]\n",
    "test_score = info_c[0]['Points'] + info_s[0]['Points'] + info_tt[0]['Points']\n",
    "print(test_team)\n",
    "print(test_score)"
   ]
  }
 ],
 "metadata": {
  "kernelspec": {
   "display_name": "Python 3",
   "language": "python",
   "name": "python3"
  },
  "language_info": {
   "codemirror_mode": {
    "name": "ipython",
    "version": 3
   },
   "file_extension": ".py",
   "mimetype": "text/x-python",
   "name": "python",
   "nbconvert_exporter": "python",
   "pygments_lexer": "ipython3",
   "version": "3.7.6"
  }
 },
 "nbformat": 4,
 "nbformat_minor": 4
}
