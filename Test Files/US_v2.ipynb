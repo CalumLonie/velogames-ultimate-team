{
 "cells": [
  {
   "cell_type": "code",
   "execution_count": 1,
   "metadata": {},
   "outputs": [],
   "source": [
    "import csv"
   ]
  },
  {
   "cell_type": "code",
   "execution_count": 46,
   "metadata": {},
   "outputs": [],
   "source": [
    "race_name = 'Squad_Test'\n",
    "gender = 'M'\n",
    "\n",
    "n_riders = 6\n",
    "n_subs = 4\n",
    "max_cost = 100"
   ]
  },
  {
   "cell_type": "code",
   "execution_count": 3,
   "metadata": {},
   "outputs": [],
   "source": [
    "def initialise (n_teams, default):\n",
    "    set = []\n",
    "    for d in range(n_teams):\n",
    "        set.append(default)\n",
    "    return set"
   ]
  },
  {
   "cell_type": "code",
   "execution_count": 4,
   "metadata": {},
   "outputs": [],
   "source": [
    "def splitting (inter, races, n_all):\n",
    "    info = initialise(n_races, [])\n",
    "    l = 0\n",
    "    for race in races:\n",
    "        split = []\n",
    "        for row in range(n_all):\n",
    "            split.append([inter[row]['Names'], inter[row]['Cost'], inter[row][race]])\n",
    "        info[l] = split\n",
    "        l += 1\n",
    "        \n",
    "    return info"
   ]
  },
  {
   "cell_type": "code",
   "execution_count": 47,
   "metadata": {},
   "outputs": [],
   "source": [
    "if gender == 'W':\n",
    "    races = ['Race1', 'Race2']\n",
    "if gender == 'M':\n",
    "    races = ['Race1', 'Race2', 'Race3']\n",
    "n_races = len(races)"
   ]
  },
  {
   "cell_type": "code",
   "execution_count": 48,
   "metadata": {},
   "outputs": [],
   "source": [
    "in_file = open(str(race_name) + '_' + str(gender) + '.txt', 'r')\n",
    "inter = []\n",
    "l = 0\n",
    "\n",
    "data = csv.DictReader(in_file)\n",
    "for row in data:\n",
    "    inter.append(row)\n",
    "    inter[l]['Cost'] = int(inter[l]['Cost'])\n",
    "    for race in races:\n",
    "        inter[l][race] = int(inter[l][race])\n",
    "    inter[l]['Total'] = int(inter[l]['Total'])\n",
    "    l += 1\n",
    "in_file.close()\n",
    "\n",
    "n_all = len(inter)\n",
    "\n",
    "info = splitting(inter, races, n_all)"
   ]
  },
  {
   "cell_type": "code",
   "execution_count": 49,
   "metadata": {},
   "outputs": [],
   "source": [
    "rs = initialise(n_races, [])\n",
    "comb_scores = initialise(n_races, 0)\n",
    "comb_costs = initialise(n_races, 0)\n",
    "squad_teams = initialise(n_races, [])\n",
    "squad_scores = initialise(n_races, 0)\n",
    "squad_costs = initialise(n_races, 0)\n",
    "squad_total = 0"
   ]
  },
  {
   "cell_type": "code",
   "execution_count": 8,
   "metadata": {},
   "outputs": [],
   "source": [
    "def adding (info, rs, col):\n",
    "    sub = 0\n",
    "    for r in rs:\n",
    "        sub += info[r][col]\n",
    "        \n",
    "    return sub"
   ]
  },
  {
   "cell_type": "code",
   "execution_count": 9,
   "metadata": {},
   "outputs": [],
   "source": [
    "def setup (loops):\n",
    "    list = []\n",
    "    \n",
    "    for race in range(n_races):\n",
    "        test = []\n",
    "        if loops[race] != 0:\n",
    "            for n in range(loops[race]):\n",
    "                test.append(n)\n",
    "        list.append(test)\n",
    "            \n",
    "    return list"
   ]
  },
  {
   "cell_type": "code",
   "execution_count": 10,
   "metadata": {},
   "outputs": [],
   "source": [
    "def iscomplete(matrix, complete, loops, n_max):        \n",
    "    for race in range(n_races):\n",
    "        if loops[race] == 0:\n",
    "            complete[race] = True\n",
    "        else:\n",
    "            for n in range(loops[race]):\n",
    "                if matrix[race][loops[race]-n-1] == n_max-n-1:\n",
    "                    complete[race] = True\n",
    "                else:\n",
    "                    complete[race] = False\n",
    "                    break\n",
    "    \n",
    "    return complete"
   ]
  },
  {
   "cell_type": "code",
   "execution_count": 11,
   "metadata": {},
   "outputs": [],
   "source": [
    "def isnew (matrix, subs, loc, scope):\n",
    "    new = True\n",
    "    for indiv in range(scope):\n",
    "        if subs[indiv] in matrix:\n",
    "            new = False\n",
    "            break\n",
    "            \n",
    "    return new"
   ]
  },
  {
   "cell_type": "code",
   "execution_count": 12,
   "metadata": {},
   "outputs": [],
   "source": [
    "def new_rs (matrix, subs, loc, noc, scope, j):\n",
    "    for indiv in range(scope[j]):\n",
    "        if loc[j][indiv] in noc[j]:\n",
    "            value = loc[j][indiv]\n",
    "            noc[j].remove(value)\n",
    "            \n",
    "    for indiv in range(scope[j]):\n",
    "        matrix[j][loc[j][indiv]] = subs[j][indiv]\n",
    "    for indiv in range(len(noc[j])):\n",
    "        matrix[j][noc[j][indiv]] = matrix[j-1][noc[j][indiv]]\n",
    "    matrix[j] = sorted(matrix[j])\n",
    "    \n",
    "    return matrix[j]"
   ]
  },
  {
   "cell_type": "code",
   "execution_count": 13,
   "metadata": {},
   "outputs": [],
   "source": [
    "def cost_checker (comb, cost):\n",
    "    if comb > cost:\n",
    "        check = False\n",
    "    else:\n",
    "        check = True\n",
    "        \n",
    "    return check"
   ]
  },
  {
   "cell_type": "code",
   "execution_count": 14,
   "metadata": {},
   "outputs": [],
   "source": [
    "def team (info, rs):\n",
    "    sub = []\n",
    "    for r in rs:\n",
    "        sub.append(info[r][0])\n",
    "        \n",
    "    return sub"
   ]
  },
  {
   "cell_type": "code",
   "execution_count": 15,
   "metadata": {},
   "outputs": [],
   "source": [
    "def isfinished (complete):\n",
    "    counter = 0\n",
    "    for n in range(n_races):\n",
    "        if complete[n] == True:\n",
    "            counter += 1\n",
    "        else:\n",
    "            break\n",
    "            \n",
    "    if counter == n_races:\n",
    "        finished = True\n",
    "    else:\n",
    "        finished = False\n",
    "    \n",
    "    return finished"
   ]
  },
  {
   "cell_type": "code",
   "execution_count": 16,
   "metadata": {},
   "outputs": [],
   "source": [
    "def race_determine (complete):\n",
    "    \n",
    "    for n in range(n_races):\n",
    "        if complete[n_races-n-1] == False:\n",
    "            race_index = n_races-n-1\n",
    "            break\n",
    "            \n",
    "    return race_index"
   ]
  },
  {
   "cell_type": "code",
   "execution_count": 17,
   "metadata": {},
   "outputs": [],
   "source": [
    "def index(matrix, loops, n_max):\n",
    "    for n in range(loops):\n",
    "        if matrix[loops-n-1] != n_max-n-1:\n",
    "            r = loops-n-1\n",
    "            break\n",
    "            \n",
    "    return r"
   ]
  },
  {
   "cell_type": "code",
   "execution_count": 18,
   "metadata": {},
   "outputs": [],
   "source": [
    "def iterate (matrix, loops, r):\n",
    "    matrix[r] += 1\n",
    "    for n in range(r+1,loops):\n",
    "        matrix[n] = matrix[n-1] + 1\n",
    "    \n",
    "    return matrix"
   ]
  },
  {
   "cell_type": "code",
   "execution_count": 19,
   "metadata": {},
   "outputs": [],
   "source": [
    "def reset (riders, loops, race_index):\n",
    "    for m in range(race_index+1, n_races):\n",
    "        new = []\n",
    "        if loops[m] != 0:\n",
    "            for n in range(loops[m]):\n",
    "                new.append(n)\n",
    "        riders[m] = new\n",
    "    \n",
    "    return riders"
   ]
  },
  {
   "cell_type": "code",
   "execution_count": 20,
   "metadata": {},
   "outputs": [],
   "source": [
    "def loops_iterate (loops, loop_index):\n",
    "    loops[loop_index] += 1\n",
    "    for n in range(loop_index+1,n_races):\n",
    "        loops[n] = 0\n",
    "            \n",
    "    return loops"
   ]
  },
  {
   "cell_type": "code",
   "execution_count": 21,
   "metadata": {},
   "outputs": [],
   "source": [
    "def loops_iscomplete (loops, loops_complete, loop_index):\n",
    "    if loops[loop_index] == n_riders:\n",
    "        loops_complete[loop_index] = True\n",
    "        \n",
    "    if sum(loops) == n_subs:\n",
    "        loops_complete[loop_index] = True\n",
    "        for race in range(loop_index+1,n_races):\n",
    "            loops_complete[race] = True\n",
    "    else:\n",
    "        loops_complete[loop_index] = False\n",
    "        for race in range(loop_index+1,n_races):\n",
    "            loops_complete[race] = False\n",
    "            \n",
    "    return loops_complete"
   ]
  },
  {
   "cell_type": "code",
   "execution_count": 50,
   "metadata": {},
   "outputs": [
    {
     "name": "stdout",
     "output_type": "stream",
     "text": [
      "0\n",
      "1\n",
      "2\n",
      "3\n",
      "4\n",
      "Evaluation of all combinations complete.\n"
     ]
    }
   ],
   "source": [
    "for r1 in range(n_all-5):\n",
    "    print(r1)\n",
    "    for r2 in range(r1+1, n_all-4):\n",
    "        for r3 in range(r2+1, n_all-3):\n",
    "            for r4 in range(r3+1, n_all-2):\n",
    "                for r5 in range(r4+1, n_all-1):\n",
    "                    for r6 in range(r5+1, n_all):\n",
    "                        rs[0] = [r1, r2, r3, r4, r5, r6]\n",
    "                        comb_costs[0] = adding(info[0], rs[0], 1)\n",
    "                        if comb_costs[0] <= max_cost:\n",
    "                            comb_scores[0] = adding(info[0], rs[0], 2)\n",
    "                            loops = initialise(n_races, 0)\n",
    "                            loops_complete = initialise(n_races, False)\n",
    "                            loops_complete[0] = True\n",
    "                            for race in range(1,n_races):\n",
    "                                loops_complete[race] = False\n",
    "                            loops_finished = False\n",
    "                            while loops_finished == False:\n",
    "                                s = setup(loops)\n",
    "                                s_complete = initialise(n_races, False)\n",
    "                                s_complete[0] = True\n",
    "                                s_complete = iscomplete(s, s_complete, loops, n_all)\n",
    "                                s_finished = False\n",
    "                                while s_finished == False:\n",
    "                                    riders = setup(loops)\n",
    "                                    riders_complete = initialise(n_races, False)\n",
    "                                    riders_complete[0] = True\n",
    "                                    riders_complete = iscomplete(riders, riders_complete, loops, n_riders)\n",
    "                                    riders_finished = False\n",
    "                                    while riders_finished == False:\n",
    "                                        comb_total = comb_scores[0]\n",
    "                                        for race in range(1, n_races):\n",
    "                                            rs[race] = []\n",
    "                                        same = initialise(n_races, [])\n",
    "                                        unique = initialise(n_races, True)\n",
    "                                        for race in range(1,n_races):\n",
    "                                            rs[race] = [n_all]\n",
    "                                            same[race] = [0]\n",
    "                                            for indiv in range(1,n_riders):\n",
    "                                                rs[race].append(n_all)\n",
    "                                                same[race].append(indiv)\n",
    "                                        for race in range(1,n_races):\n",
    "                                            unique[race] = isnew(rs[race-1], s[race], riders[race], loops[race])\n",
    "                                            if False not in unique:\n",
    "                                                rs[race] = new_rs(rs, s, riders, same, loops, race)\n",
    "                                                comb_costs[race] = adding(info[race], rs[race], 1)\n",
    "                                                cost_check = cost_checker(comb_costs[race], max_cost)\n",
    "                                                if cost_check == True:\n",
    "                                                    comb_scores[race] = adding(info[race], rs[race], 2)\n",
    "                                                    comb_total += comb_scores[race]\n",
    "                                                else:\n",
    "                                                    comb_total -= 100000\n",
    "                                        if comb_total > squad_total:\n",
    "                                            for race in range(n_races):\n",
    "                                                squad_teams[race] = team(info[race], rs[race])\n",
    "                                                squad_scores[race] = comb_scores[race]\n",
    "                                                squad_costs[race] = comb_costs[race]\n",
    "                                            squad_total = comb_total\n",
    "                                        riders_finished = isfinished(riders_complete)\n",
    "                                        if riders_finished == False:\n",
    "                                            race_index = race_determine(riders_complete)\n",
    "                                            r_riders = index(riders[race_index], loops[race_index], n_riders)\n",
    "                                            riders[race_index] = iterate(riders[race_index], loops[race_index], r_riders)\n",
    "                                            riders = reset(riders, loops, race_index)\n",
    "                                            riders_complete = iscomplete(riders, riders_complete, loops, n_riders)\n",
    "                                    s_finished = isfinished(s_complete)\n",
    "                                    if s_finished == False:\n",
    "                                        s_index = race_determine(s_complete)\n",
    "                                        r_s = index(s[s_index], loops[s_index], n_all)\n",
    "                                        s[race_index] = iterate(s[s_index], loops[s_index], r_s)\n",
    "                                        s = reset(s, loops, s_index)\n",
    "                                        s_complete = iscomplete(s, s_complete, loops, n_all)\n",
    "                                loops_finished = isfinished(loops_complete)\n",
    "                                if loops_finished == False:\n",
    "                                    loop_index = race_determine(loops_complete)\n",
    "                                    loops = loops_iterate(loops, loop_index)\n",
    "                                    loops_complete = loops_iscomplete(loops, loops_complete, loop_index)\n",
    "\n",
    "print('Evaluation of all combinations complete.')"
   ]
  },
  {
   "cell_type": "code",
   "execution_count": 51,
   "metadata": {},
   "outputs": [],
   "source": [
    "out_file = open(str(race_name) + '_' + str(gender) + '_US.txt', 'w')\n",
    "\n",
    "out_file.write('The Ultimate Squad scored ' + str(squad_total) + ' points.' + '\\n' + '\\n')\n",
    "for race in range(n_races):\n",
    "    out_file.write('The team for ' + str(races[race]) + ' was:' + '\\n')\n",
    "    for rider in range(n_riders):\n",
    "        out_file.write(str(squad_teams[race][rider]) + '\\n')\n",
    "    out_file.write('Scoring ' + str(squad_scores[race]) + ' points.' + '\\n')\n",
    "    out_file.write('Costing ' + str(squad_costs[race]) + ' credits.' + '\\n' + '\\n')\n",
    "\n",
    "out_file.close()"
   ]
  },
  {
   "cell_type": "code",
   "execution_count": 52,
   "metadata": {},
   "outputs": [
    {
     "name": "stdout",
     "output_type": "stream",
     "text": [
      "1535\n",
      "[['Yves Lampaert', 'Mitch Docker', 'Jens Keukeleire', 'Luke Durbridge', 'Tiesj Benoot', 'Tim Wellens'], ['Yves Lampaert', 'Mitch Docker', 'Jens Keukeleire', 'Luke Durbridge', 'Tiesj Benoot', 'Tim Wellens'], ['Tiesj Benoot', 'Tim Wellens', 'Dan Martin', 'Benoit Cosnefroy', 'Marc Hirschi', 'Tum Dumoulin']]\n",
      "[[4, 5, 6, 7, 8, 9], [10, 10, 10, 10, 10, 10], [10, 10, 10, 10, 10, 10]]\n",
      "[[], [6, 7, 8, 9], []]\n",
      "[[], [0, 1, 2, 3, 4, 5], [0, 1, 2, 3, 4, 5]]\n"
     ]
    }
   ],
   "source": [
    "print(squad_total)\n",
    "print(squad_teams)\n",
    "print(rs)\n",
    "print(s)\n",
    "print(same)"
   ]
  }
 ],
 "metadata": {
  "kernelspec": {
   "display_name": "Python 3",
   "language": "python",
   "name": "python3"
  },
  "language_info": {
   "codemirror_mode": {
    "name": "ipython",
    "version": 3
   },
   "file_extension": ".py",
   "mimetype": "text/x-python",
   "name": "python",
   "nbconvert_exporter": "python",
   "pygments_lexer": "ipython3",
   "version": "3.7.6"
  }
 },
 "nbformat": 4,
 "nbformat_minor": 4
}
