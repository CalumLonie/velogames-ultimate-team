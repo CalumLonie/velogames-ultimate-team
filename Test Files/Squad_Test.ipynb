{
 "cells": [
  {
   "cell_type": "code",
   "execution_count": 1,
   "metadata": {},
   "outputs": [],
   "source": [
    "import csv"
   ]
  },
  {
   "cell_type": "code",
   "execution_count": 2,
   "metadata": {},
   "outputs": [],
   "source": [
    "race_name = 'Squad_Test'\n",
    "\n",
    "n_riders = 6\n",
    "n_subs = 2\n",
    "gender = 'M'"
   ]
  },
  {
   "cell_type": "code",
   "execution_count": 3,
   "metadata": {},
   "outputs": [],
   "source": [
    "def initialise (n_teams, default):\n",
    "    set = []\n",
    "    for d in range(n_teams):\n",
    "        set.append(default)\n",
    "    return set"
   ]
  },
  {
   "cell_type": "code",
   "execution_count": 4,
   "metadata": {},
   "outputs": [],
   "source": [
    "def splitting (inter, races, n_all):\n",
    "    info = initialise(n_races, [])\n",
    "    l = 0\n",
    "    for race in races:\n",
    "        split = []\n",
    "        for row in range(n_all):\n",
    "            split.append([inter[row]['Names'], inter[row]['Cost'], inter[row][race]])\n",
    "        info[l] = split\n",
    "        l += 1\n",
    "        \n",
    "    return info"
   ]
  },
  {
   "cell_type": "code",
   "execution_count": 5,
   "metadata": {},
   "outputs": [],
   "source": [
    "def adding (info, rs, col):\n",
    "    sub = 0\n",
    "    for r in rs:\n",
    "        sub += info[r][col]\n",
    "        \n",
    "    return sub"
   ]
  },
  {
   "cell_type": "code",
   "execution_count": 6,
   "metadata": {},
   "outputs": [],
   "source": [
    "def loop_setup (n_loops):\n",
    "    s = []\n",
    "    for n in range(n_loops):\n",
    "        s.append(n)\n",
    "    \n",
    "    return s"
   ]
  },
  {
   "cell_type": "code",
   "execution_count": 7,
   "metadata": {},
   "outputs": [],
   "source": [
    "def checker (rs, s, n_loops):\n",
    "    unique = True\n",
    "    for sub in range(n_loops):\n",
    "        for rider in range(n_riders):\n",
    "            if s[sub] == rs[rider]:\n",
    "                unique = False\n",
    "                break\n",
    "    \n",
    "    return unique"
   ]
  },
  {
   "cell_type": "code",
   "execution_count": 8,
   "metadata": {},
   "outputs": [],
   "source": [
    "def new_rs (rs, s, index):\n",
    "    rs_sub = []\n",
    "    for r in rs:\n",
    "        rs_sub.append(r)\n",
    "    for sub in range(len(s)):\n",
    "        rs_sub[index[sub]] = s[sub]\n",
    "    rs_new = sorted(rs_sub)\n",
    "    return rs_new"
   ]
  },
  {
   "cell_type": "code",
   "execution_count": 9,
   "metadata": {},
   "outputs": [],
   "source": [
    "def new_team (info, rs):\n",
    "    sub = []\n",
    "    for r in rs:\n",
    "        sub.append(info[r][0])\n",
    "        \n",
    "    return sub"
   ]
  },
  {
   "cell_type": "code",
   "execution_count": 10,
   "metadata": {},
   "outputs": [],
   "source": [
    "def range_check (subs_left, n_riders):\n",
    "    if subs_left <= n_riders:\n",
    "        max_range = subs_left\n",
    "    else:\n",
    "        max_range = n_riders\n",
    "    \n",
    "    return max_range"
   ]
  },
  {
   "cell_type": "code",
   "execution_count": 11,
   "metadata": {},
   "outputs": [],
   "source": [
    "def cost_checker (comb, cost):\n",
    "    if comb > cost:\n",
    "        check = False\n",
    "    else:\n",
    "        check = True\n",
    "        \n",
    "    return check"
   ]
  },
  {
   "cell_type": "code",
   "execution_count": 12,
   "metadata": {},
   "outputs": [],
   "source": [
    "if gender == 'W':\n",
    "    races = ['Race1', 'Race2']\n",
    "if gender == 'M':\n",
    "    races = ['Race1', 'Race2']\n",
    "n_races = len(races)"
   ]
  },
  {
   "cell_type": "code",
   "execution_count": 13,
   "metadata": {},
   "outputs": [],
   "source": [
    "in_file = open(str(race_name) + '_' + str(gender) + '.txt', 'r')\n",
    "inter = []\n",
    "l = 0\n",
    "\n",
    "data = csv.DictReader(in_file)\n",
    "for row in data:\n",
    "    inter.append(row)\n",
    "    inter[l]['Cost'] = int(inter[l]['Cost'])\n",
    "    for race in races:\n",
    "        inter[l][race] = int(inter[l][race])\n",
    "    inter[l]['Total'] = int(inter[l]['Total'])\n",
    "    l += 1\n",
    "in_file.close()\n",
    "\n",
    "n_all = len(inter)\n",
    "\n",
    "info = splitting(inter, races, n_all)"
   ]
  },
  {
   "cell_type": "code",
   "execution_count": null,
   "metadata": {},
   "outputs": [],
   "source": [
    "def main_loop (race, info, rs, s, completed, n_loops, n_riders, max_cost, setup)\n",
    "    if setup == False:\n",
    "        s = loop_setup(n_loops)\n",
    "        setup = True\n",
    "    #subs_left = n_subs - n_loops[race]\n",
    "    unique = checker(rs[race-1], s, n_loops)\n",
    "    while unique == False:\n",
    "        [s, completed] = s_iterate(s, n_loops, n_riders)\n",
    "        unique = checker(rs[race-1], s, n_loops)\n",
    "    riders = loops_setup(n_loops)\n",
    "    rs[race] = new_rs(rs[race-1], s, riders)\n",
    "    comb_costs[race] = adding(info, rs[race], 1)\n",
    "    cost_check = cost_checker(comb_costs[race], max_cost)\n",
    "    while cost_check == False:\n",
    "        [s, completed] = s_iterate(s, n_loops, n_riders)\n",
    "        unique = checker(rs[race-1], s, n_loops)\n",
    "        if unique:\n",
    "            comb_costs[race] = adding(info, rs[race], 1)\n",
    "            cost_check = cost_checker(comb_costs[race], max_cost)\n",
    "            \n",
    "    return rs, s, completed, comb_costs, n_loops, setup"
   ]
  },
  {
   "cell_type": "code",
   "execution_count": null,
   "metadata": {},
   "outputs": [],
   "source": [
    "def s_iterate (s, n_loops, n_riders):\n",
    "    counter = 0\n",
    "    \n",
    "    for n in range(n_loops):\n",
    "        if s[n_loops-n-1] < n_riders-n-1:\n",
    "            index = n_loops-n-1\n",
    "            break\n",
    "        else:\n",
    "            counter += 1\n",
    "            \n",
    "    if counter == n_loops:\n",
    "        finished = True\n",
    "    else:\n",
    "        s[index] = s[index] + 1\n",
    "        for n in range(index+1, n_loops):\n",
    "            s[n] = s[n-1] + 1\n",
    "        finished = False\n",
    "    \n",
    "    return s, finished"
   ]
  },
  {
   "cell_type": "code",
   "execution_count": null,
   "metadata": {},
   "outputs": [],
   "source": [
    "comb_teams = initialise(n_races, [])\n",
    "comb_scores = initialise(n_races, 0)\n",
    "comb_costs = initialise(n_races, 0)\n",
    "rs = initialise(n_races, [])\n",
    "squad_teams = initialise(n_races, [])\n",
    "squad_scores = initialise(n_races, 0)\n",
    "squad_costs = initialise(n_races, 0)\n",
    "squad_total = 0\n",
    "subs_left = n_subs\n",
    "\n",
    "for r1 in range(n_all-5):\n",
    "    print(r1)\n",
    "    for r2 in range(r1+1,n_all-4):\n",
    "        for r3 in range(r2+1,n_all-3):\n",
    "            for r4 in range(r3+1,n_all-2):\n",
    "                for r5 in range(r4+1,n_all-1):\n",
    "                    for r6 in range(r5+1,n_all):\n",
    "                        rs[0] = [r1, r2, r3, r4, r5, r6]\n",
    "                        comb_costs[0] = adding(info[0], rs[0], 1)\n",
    "                        if comb_costs[0] < max_cost:\n",
    "                            comb_scores[0] = adding(info[0], rs[0], 2)\n",
    "                            \n",
    "                            if subs_left <= n_riders:\n",
    "                                max_range = subs_left\n",
    "                            elif subs_left > n_riders:\n",
    "                                max_range = n_riders\n",
    "                            for n_loops in range(max_range + 1):\n",
    "                                s = loop_setup(n_loops)\n",
    "                                completed = False\n",
    "                                while completed == False:\n",
    "                                    unique = checker(rs, s, n_loops)\n",
    "                                    if unique == True:\n",
    "                                        riders = loop_setup(n_loops)\n",
    "                                        complete = False\n",
    "                                        while complete == False:\n",
    "                                            rs_sub = new_rs(rs, s, riders)\n",
    "                            \n",
    "                            for n in range(1,n_races):\n",
    "                                s[n] = loop_setup(n_loops[n])\n",
    "                                completed[n] = False\n",
    "                            for n in range(n_races):\n",
    "                                m = n_races - n\n",
    "                                while completed[m] == False:\n",
    "                                    for race in range(n_races):\n",
    "                                        unique[race] = checker(rs[race], s[race], n_loops[race])\n",
    "                                        if unique[race] == False:\n",
    "                                            unique_check = False\n",
    "                                            break\n",
    "                                        else:\n",
    "                                            unique_check = True\n",
    "                                    if unique_check == True:\n",
    "                                        for race in range(n_races):\n",
    "                                            riders[race] = loop_setup(n_loops[race])\n",
    "                                            complete[race] = False\n",
    "                                        complete_check = False\n",
    "                                        while complete_check == False:\n",
    "                                            for race in range(n_races):\n",
    "                                                rs[race] = new_rs(rs[race], s[race], riders[race])\n",
    "                                                comb_cost[race] = adding(info[race], rs[race], 1)\n",
    "                                                if comb_cost[race] > max_cost:\n",
    "                                                    cost_check = False\n",
    "                                                    break\n",
    "                                                else:\n",
    "                                                    cost_check = True\n",
    "                                            if cost_check == True:\n",
    "                    \n",
    "                                                for race in range(n_races):\n",
    "                                                    comb_scores[race] = adding(info[race], rs[race], 2)\n",
    "                                                comb_total = sum(comb_scores)\n",
    "                                                if comb_total > squad_score:\n",
    "                                                    for race in range(n_races):\n",
    "                                                        squad_teams[race] = new_team(info[race], rs[race])\n",
    "                                                        squad_scores[race] = comb_scores[race]\n",
    "                                                        squad_costs[race] = comb_costs[race]\n",
    "                                                    squad_total = comb_total\n",
    "                                                    \n",
    "                                            [riders, complete, complete_check] = riders_iterate(riders, complete, n_loops, n_racers, n_riders)\n",
    "                                    loop_iterate(s)\n",
    "                                    \n",
    "print('Evaluation of all combinations complete.')"
   ]
  },
  {
   "cell_type": "code",
   "execution_count": null,
   "metadata": {},
   "outputs": [],
   "source": [
    "def riders_iterate (riders, complete, n_loops, n_races, n_riders):\n",
    "    counter = 0\n",
    "    \n",
    "    for n in range(n_races):\n",
    "        if complete[n_races-n-1] == False:\n",
    "            r = n_races-n-1\n",
    "            break\n",
    "        else:\n",
    "            counter += 1\n",
    "            \n",
    "    if counter != n_races:\n",
    "        for n in range(n_loops[r]):\n",
    "            if riders[r][n_loops[r]-n-1] == n_riders-n-1:\n",
    "                index = n_loops[r]-n-1\n",
    "                break\n",
    "            \n",
    "        riders[r][index] = riders[r][index] + 1\n",
    "        for n in range(index+1, n_loops[r]):\n",
    "            riders[r][n] = riders[r][n-1] + 1\n",
    "            \n",
    "        if riders[r][n_loops[r]-1] == n_riders-1:\n",
    "            complete[r] = True\n",
    "        else:\n",
    "            complete[r] = False\n",
    "            \n",
    "        for n in range(r+1,n_races):\n",
    "            riders[n] = loops_setup(n_loops[n])\n",
    "            complete[n] = False\n",
    "            \n",
    "        complete_check = False\n",
    "    else:\n",
    "        complete_check = True\n",
    "                \n",
    "    return riders, complete, complete_check"
   ]
  },
  {
   "cell_type": "code",
   "execution_count": 10,
   "metadata": {},
   "outputs": [],
   "source": [
    "def loop_iterate (old, n_iter, n_end):\n",
    "    complete = initialise(n_iter, 0)\n",
    "    new = initialise(n_iter, 0)\n",
    "    counter = 0\n",
    "    finished = False\n",
    "    \n",
    "    for n in range(n_iter):\n",
    "        if old[n_iter-n-1] < n_end-n-1:\n",
    "            complete[n_iter-n-1] = False\n",
    "        else:\n",
    "            complete[n_iter-n-1] = True\n",
    "            counter += 1\n",
    "            \n",
    "    if counter != n_iter:\n",
    "        for n in range(n_iter):\n",
    "            if complete[n_iter-n-1] == False:\n",
    "                index = n_iter-n-1\n",
    "                break\n",
    "                \n",
    "        new[0:index] = old[0:index]\n",
    "        new[index] = old[index] + 1\n",
    "        for n in range(index+1, n_iter):\n",
    "            new[n] = new[n-1] + 1\n",
    "    else:\n",
    "        finished = True\n",
    "        \n",
    "    return new, finished"
   ]
  },
  {
   "cell_type": "code",
   "execution_count": 24,
   "metadata": {},
   "outputs": [
    {
     "name": "stdout",
     "output_type": "stream",
     "text": [
      "0\n",
      "1\n",
      "2\n",
      "3\n",
      "4\n",
      "Evaluation of all combinations complete.\n"
     ]
    }
   ],
   "source": [
    "squad_teams = initialise(n_races, [])\n",
    "squad_scores = initialise(n_races, 0)\n",
    "squad_costs = initialise(n_races, 0)\n",
    "squad_total = 0\n",
    "subs_left = n_subs\n",
    "\n",
    "for r1 in range(n_all-5):\n",
    "    print(r1)\n",
    "    for r2 in range(r1+1,n_all-4):\n",
    "        for r3 in range(r2+1,n_all-3):\n",
    "            for r4 in range(r3+1,n_all-2):\n",
    "                for r5 in range(r4+1,n_all-1):\n",
    "                    for r6 in range(r5+1,n_all):\n",
    "                        rs = [r1, r2, r3, r4, r5, r6]\n",
    "                        comb_cost = adding(info[0], rs, 1)\n",
    "                        if comb_cost <= 50:\n",
    "                            comb_score = adding(info[0], rs, 2)\n",
    "                                \n",
    "                            if subs_left <= n_riders:\n",
    "                                max_range = subs_left\n",
    "                            elif subs_left > n_riders:\n",
    "                                max_range = n_riders\n",
    "                            for n_loops in range(max_range + 1):\n",
    "                                s = loop_setup(n_loops)\n",
    "                                completed = False\n",
    "                                while completed == False:\n",
    "                                    unique = checker(rs, s, n_loops)\n",
    "                                    if unique == True:\n",
    "                                        riders = loop_setup(n_loops)\n",
    "                                        complete = False\n",
    "                                        while complete == False:\n",
    "                                            rs_sub = new_rs(rs, s, riders)\n",
    "                                            sub_cost = adding(info[1], rs_sub, 1)\n",
    "                                            \n",
    "                                            if sub_cost <= 50:\n",
    "                                                sub_score = adding(info[1], rs_sub, 2)\n",
    "                                                if comb_score + sub_score > squad_total:\n",
    "                                                    squad_teams[0] = new_team(info[0], rs)\n",
    "                                                    squad_teams[1] = new_team(info[1], rs_sub)\n",
    "                                                    squad_scores[0] = comb_score\n",
    "                                                    squad_scores[1] = sub_score\n",
    "                                                    squad_costs[0] = comb_cost\n",
    "                                                    squad_costs[1] = sub_cost\n",
    "                                                    squad_total = comb_score + sub_score\n",
    "                                                    subs = n_loops\n",
    "                                            [riders, complete] = loop_iterate(riders, n_loops, n_riders)\n",
    "                                    [s, completed] = loop_iterate(s, n_loops, n_all)\n",
    "                                        \n",
    "print('Evaluation of all combinations complete.')"
   ]
  },
  {
   "cell_type": "code",
   "execution_count": 25,
   "metadata": {},
   "outputs": [],
   "source": [
    "out_file = open('Squad_Test_US.txt', 'w')\n",
    "\n",
    "out_file.write('The Ultimate Squad scored ' + str(squad_total) + ' points.' + '\\n' + '\\n')\n",
    "for race in range(n_races):\n",
    "    out_file.write('The team for ' + str(races[race]) + ' was:' + '\\n')\n",
    "    for rider in range(n_riders):\n",
    "        out_file.write(str(squad_teams[race][rider]) + '\\n')\n",
    "    out_file.write('Scoring ' + str(squad_scores[race]) + ' points.' + '\\n')\n",
    "    out_file.write('Costing ' + str(squad_costs[race]) + ' credits.' + '\\n' + '\\n')\n",
    "\n",
    "out_file.close()"
   ]
  },
  {
   "cell_type": "code",
   "execution_count": 26,
   "metadata": {},
   "outputs": [
    {
     "name": "stdout",
     "output_type": "stream",
     "text": [
      "1\n"
     ]
    }
   ],
   "source": [
    "print(subs)"
   ]
  },
  {
   "cell_type": "code",
   "execution_count": 47,
   "metadata": {
    "scrolled": true
   },
   "outputs": [
    {
     "name": "stdout",
     "output_type": "stream",
     "text": [
      "[['Annemiek Van Vleuten', 12, 40], ['Anna Van Der Breggen', 12, 90], ['Ashleigh Moolman-Pasio', 10, 95], ['Elisa Longo Borghini', 10, 80], ['Marianne Vos', 10, 10], ['Lisa Brennauer', 8, 75], ['Cecilie Uttrup Ludwig', 8, 50], ['Audrey Cordon-Ragot', 6, 85], ['Hannah Ludwig', 6, 40], ['Tiffany Cromwell', 6, 35]]\n"
     ]
    }
   ],
   "source": [
    "print(info[0])"
   ]
  },
  {
   "cell_type": "code",
   "execution_count": 11,
   "metadata": {},
   "outputs": [
    {
     "name": "stdout",
     "output_type": "stream",
     "text": [
      "[]\n",
      "['Test text', 'Test text 2']\n"
     ]
    }
   ],
   "source": [
    "test = []\n",
    "print(test)\n",
    "test.append('Test text')\n",
    "test.append('Test text 2')\n",
    "print(test)"
   ]
  },
  {
   "cell_type": "code",
   "execution_count": 28,
   "metadata": {},
   "outputs": [
    {
     "name": "stdout",
     "output_type": "stream",
     "text": [
      "40\n",
      "90\n",
      "95\n",
      "80\n",
      "10\n",
      "75\n",
      "50\n",
      "85\n",
      "40\n",
      "35\n"
     ]
    }
   ],
   "source": [
    "for row in range(n_all):\n",
    "    print(info[row]['Race' + str(1)])"
   ]
  },
  {
   "cell_type": "code",
   "execution_count": 14,
   "metadata": {},
   "outputs": [
    {
     "name": "stdout",
     "output_type": "stream",
     "text": [
      "[]\n"
     ]
    }
   ],
   "source": [
    "test = []\n",
    "test_iter = 0\n",
    "for r in range(test_iter):\n",
    "    test.append(r)\n",
    "print(test)"
   ]
  },
  {
   "cell_type": "code",
   "execution_count": 12,
   "metadata": {},
   "outputs": [
    {
     "name": "stdout",
     "output_type": "stream",
     "text": [
      "2\n"
     ]
    }
   ],
   "source": [
    "test = [0,1,2]\n",
    "n_test = 3\n",
    "print(test[n_test-1])"
   ]
  },
  {
   "cell_type": "code",
   "execution_count": 18,
   "metadata": {},
   "outputs": [],
   "source": [
    "test_index = 1\n",
    "test_loops = 1\n",
    "test = [5,6]\n",
    "for n in range(test_index, test_loops):\n",
    "    test[n+1] = test[n]\n",
    "    print(test)"
   ]
  },
  {
   "cell_type": "code",
   "execution_count": 26,
   "metadata": {},
   "outputs": [
    {
     "name": "stdout",
     "output_type": "stream",
     "text": [
      "[0, 1, 2, 3, 4, 5]\n"
     ]
    }
   ],
   "source": [
    "rs = [0, 1, 2, 3, 4, 5]\n",
    "[s, completed] = s_start(0)\n",
    "unique = checker(rs, s, 0)\n",
    "rs_sub = new_rs(rs, s, 0)\n",
    "print(rs)"
   ]
  },
  {
   "cell_type": "code",
   "execution_count": 27,
   "metadata": {},
   "outputs": [
    {
     "name": "stdout",
     "output_type": "stream",
     "text": [
      "2\n"
     ]
    }
   ],
   "source": [
    "races = ['Race1', 'Race2']\n",
    "print(len(races))"
   ]
  },
  {
   "cell_type": "code",
   "execution_count": 13,
   "metadata": {},
   "outputs": [
    {
     "name": "stdout",
     "output_type": "stream",
     "text": [
      "[[0, 1, 2], []]\n"
     ]
    }
   ],
   "source": [
    "test = initialise(2,[])\n",
    "test[0] = [0,1,2]\n",
    "print(test)"
   ]
  },
  {
   "cell_type": "code",
   "execution_count": 14,
   "metadata": {},
   "outputs": [
    {
     "name": "stdout",
     "output_type": "stream",
     "text": [
      "3\n"
     ]
    }
   ],
   "source": [
    "test = [0,1,2]\n",
    "print(sum(test))"
   ]
  }
 ],
 "metadata": {
  "kernelspec": {
   "display_name": "Python 3",
   "language": "python",
   "name": "python3"
  },
  "language_info": {
   "codemirror_mode": {
    "name": "ipython",
    "version": 3
   },
   "file_extension": ".py",
   "mimetype": "text/x-python",
   "name": "python",
   "nbconvert_exporter": "python",
   "pygments_lexer": "ipython3",
   "version": "3.7.6"
  }
 },
 "nbformat": 4,
 "nbformat_minor": 4
}
