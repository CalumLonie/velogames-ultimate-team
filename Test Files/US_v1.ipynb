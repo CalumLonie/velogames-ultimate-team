{
 "cells": [
  {
   "cell_type": "code",
   "execution_count": 2,
   "metadata": {},
   "outputs": [],
   "source": [
    "import csv"
   ]
  },
  {
   "cell_type": "code",
   "execution_count": 26,
   "metadata": {},
   "outputs": [],
   "source": [
    "race_name = 'Squad_Test'\n",
    "\n",
    "n_riders = 6\n",
    "n_subs = 4\n",
    "gender = 'M'\n",
    "max_cost = 54"
   ]
  },
  {
   "cell_type": "code",
   "execution_count": 27,
   "metadata": {},
   "outputs": [],
   "source": [
    "def initialise (n_teams, default):\n",
    "    set = []\n",
    "    for d in range(n_teams):\n",
    "        set.append(default)\n",
    "    return set"
   ]
  },
  {
   "cell_type": "code",
   "execution_count": 28,
   "metadata": {},
   "outputs": [],
   "source": [
    "def splitting (inter, races, n_all):\n",
    "    info = initialise(n_races, [])\n",
    "    l = 0\n",
    "    for race in races:\n",
    "        split = []\n",
    "        for row in range(n_all):\n",
    "            split.append([inter[row]['Names'], inter[row]['Cost'], inter[row][race]])\n",
    "        info[l] = split\n",
    "        l += 1\n",
    "        \n",
    "    return info"
   ]
  },
  {
   "cell_type": "code",
   "execution_count": 29,
   "metadata": {},
   "outputs": [],
   "source": [
    "def adding (info, rs, col):\n",
    "    sub = 0\n",
    "    for r in rs:\n",
    "        sub += info[r][col]\n",
    "        \n",
    "    return sub"
   ]
  },
  {
   "cell_type": "code",
   "execution_count": 30,
   "metadata": {},
   "outputs": [],
   "source": [
    "def new_rs (rs, s, loc):\n",
    "    rs_sub = []\n",
    "    for r in rs:\n",
    "        rs_sub.append(r)\n",
    "    for sub in range(len(s)):\n",
    "        rs_sub[loc[sub]] = s[sub]\n",
    "    rs_new = sorted(rs_sub)\n",
    "    return rs_new"
   ]
  },
  {
   "cell_type": "code",
   "execution_count": 31,
   "metadata": {},
   "outputs": [],
   "source": [
    "def cost_checker (comb, cost):\n",
    "    if comb > cost:\n",
    "        check = False\n",
    "    else:\n",
    "        check = True\n",
    "        \n",
    "    return check"
   ]
  },
  {
   "cell_type": "code",
   "execution_count": 32,
   "metadata": {},
   "outputs": [],
   "source": [
    "def team (info, rs):\n",
    "    sub = []\n",
    "    for r in rs:\n",
    "        sub.append(info[r][0])\n",
    "        \n",
    "    return sub"
   ]
  },
  {
   "cell_type": "code",
   "execution_count": 33,
   "metadata": {},
   "outputs": [],
   "source": [
    "def complete_checker(matrix, complete, loops, n_races, n_max):        \n",
    "    for race in range(n_races):\n",
    "        if loops[race] == 0:\n",
    "            complete[race] = True\n",
    "        else:\n",
    "            for n in range(loops[race]):\n",
    "                if matrix[race][loops[race]-n-1] == n_max-n-1:\n",
    "                    complete[race] = True\n",
    "                else:\n",
    "                    complete[race] = False\n",
    "                    break\n",
    "    \n",
    "    return complete"
   ]
  },
  {
   "cell_type": "code",
   "execution_count": 34,
   "metadata": {},
   "outputs": [],
   "source": [
    "def finished_checker(complete, n_races):\n",
    "    counter = 0\n",
    "    for n in range(n_races):\n",
    "        if complete[n] == True:\n",
    "            counter += 1\n",
    "        else:\n",
    "            break\n",
    "            \n",
    "    if counter == n_races:\n",
    "        finished = True\n",
    "    else:\n",
    "        finished = False\n",
    "    \n",
    "    return finished"
   ]
  },
  {
   "cell_type": "code",
   "execution_count": 35,
   "metadata": {},
   "outputs": [],
   "source": [
    "def checker (rs, s, loops):\n",
    "    unique = True\n",
    "    for race in range(1,n_races):\n",
    "        for rider in range(n_riders):\n",
    "            for sub in range(loops[race]):\n",
    "                if s[race][sub] == rs[race-1][rider]:\n",
    "                    unique = False\n",
    "                    break\n",
    "    \n",
    "    return unique"
   ]
  },
  {
   "cell_type": "code",
   "execution_count": 36,
   "metadata": {},
   "outputs": [],
   "source": [
    "def setup (loops, n_races):\n",
    "    list = []\n",
    "    \n",
    "    for race in range(n_races):\n",
    "        test = []\n",
    "        if loops[race] != 0:\n",
    "            for n in range(loops[race]):\n",
    "                test.append(n)\n",
    "        list.append(test)\n",
    "            \n",
    "    return list"
   ]
  },
  {
   "cell_type": "code",
   "execution_count": 37,
   "metadata": {},
   "outputs": [],
   "source": [
    "def iterate (matrix, loops, r):\n",
    "    matrix[r] = matrix[r] + 1\n",
    "    for n in range(r+1,loops):\n",
    "        matrix[n] = matrix[n-1] + 1\n",
    "    \n",
    "    return matrix"
   ]
  },
  {
   "cell_type": "code",
   "execution_count": 38,
   "metadata": {},
   "outputs": [],
   "source": [
    "def loops_iterate (loops, n_races, loop_index):\n",
    "    loops[loop_index] += 1\n",
    "    if loop_index != n_races-1:\n",
    "        for n in range(loop_index+1,n_races):\n",
    "            loops[n] = 0\n",
    "            \n",
    "    return loops"
   ]
  },
  {
   "cell_type": "code",
   "execution_count": 39,
   "metadata": {},
   "outputs": [],
   "source": [
    "def loops_complete_checker (loops, loops_complete, n_riders, n_races, loop_index, n_subs):\n",
    "    if loops[loop_index] == n_riders:\n",
    "        loops_complete[loop_index] = True\n",
    "        \n",
    "    if sum(loops) == n_subs:\n",
    "        loops_complete[loop_index] = True\n",
    "        for race in range(loop_index+1,n_races):\n",
    "            loops_complete[race] = True\n",
    "    else:\n",
    "        loops_complete[loop_index] = False\n",
    "        for race in range(loop_index+1,n_races):\n",
    "            loops_complete[race] = False\n",
    "            \n",
    "    return loops_complete"
   ]
  },
  {
   "cell_type": "code",
   "execution_count": 40,
   "metadata": {},
   "outputs": [],
   "source": [
    "def race_determine (complete, n_races):\n",
    "    iter = 0\n",
    "    \n",
    "    for n in range(n_races):\n",
    "        if complete[n_races-n-1] == True:\n",
    "            iter += 1\n",
    "        else:\n",
    "            race_index = n_races-n-1\n",
    "            break\n",
    "            \n",
    "    return race_index"
   ]
  },
  {
   "cell_type": "code",
   "execution_count": 41,
   "metadata": {},
   "outputs": [],
   "source": [
    "def index(matrix, loops, n_max):\n",
    "    for n in range(loops):\n",
    "        if matrix[loops-n-1] != n_max-n-1:\n",
    "            r = loops-n-1\n",
    "            break\n",
    "            \n",
    "    return r"
   ]
  },
  {
   "cell_type": "code",
   "execution_count": 42,
   "metadata": {},
   "outputs": [],
   "source": [
    "def no_repeat (rs, n_riders):\n",
    "    repeat = False\n",
    "    for m in range(n_riders-1):\n",
    "        for n in range(m+1,n_riders):\n",
    "            if rs[m] == rs[n]:\n",
    "                repeat = True\n",
    "                break\n",
    "    \n",
    "    return repeat"
   ]
  },
  {
   "cell_type": "code",
   "execution_count": 43,
   "metadata": {},
   "outputs": [],
   "source": [
    "def reset (riders, loops, race_index, n_races):\n",
    "    for m in range(race_index+1, n_races):\n",
    "        new = []\n",
    "        if loops[m] != 0:\n",
    "            for n in range(loops[m]):\n",
    "                new.append(n)\n",
    "        riders[m] = new\n",
    "    \n",
    "    return riders"
   ]
  },
  {
   "cell_type": "code",
   "execution_count": 44,
   "metadata": {},
   "outputs": [],
   "source": [
    "if gender == 'W':\n",
    "    races = ['Race1', 'Race2']\n",
    "if gender == 'M':\n",
    "    races = ['Race1', 'Race2', 'Race3']\n",
    "n_races = len(races)"
   ]
  },
  {
   "cell_type": "code",
   "execution_count": 45,
   "metadata": {
    "scrolled": true
   },
   "outputs": [],
   "source": [
    "in_file = open(str(race_name) + '_' + str(gender) + '.txt', 'r')\n",
    "inter = []\n",
    "l = 0\n",
    "\n",
    "data = csv.DictReader(in_file)\n",
    "for row in data:\n",
    "    inter.append(row)\n",
    "    inter[l]['Cost'] = int(inter[l]['Cost'])\n",
    "    for race in races:\n",
    "        inter[l][race] = int(inter[l][race])\n",
    "    inter[l]['Total'] = int(inter[l]['Total'])\n",
    "    l += 1\n",
    "in_file.close()\n",
    "\n",
    "n_all = len(inter)\n",
    "\n",
    "info = splitting(inter, races, n_all)"
   ]
  },
  {
   "cell_type": "code",
   "execution_count": 46,
   "metadata": {},
   "outputs": [],
   "source": [
    "rs = initialise(n_races, [])\n",
    "comb_scores = initialise(n_races, 0)\n",
    "comb_costs = initialise(n_races, 0)\n",
    "squad_teams = initialise(n_races, [])\n",
    "squad_scores = initialise(n_races, 0)\n",
    "squad_costs = initialise(n_races, 0)\n",
    "squad_total = 0"
   ]
  },
  {
   "cell_type": "code",
   "execution_count": 47,
   "metadata": {},
   "outputs": [
    {
     "name": "stdout",
     "output_type": "stream",
     "text": [
      "0\n",
      "1\n",
      "2\n",
      "3\n",
      "4\n",
      "Evaluation of all combinations complete.\n"
     ]
    }
   ],
   "source": [
    "for r1 in range(n_all-5):\n",
    "    print(r1)\n",
    "    for r2 in range(r1+1, n_all-4):\n",
    "        for r3 in range(r2+1, n_all-3):\n",
    "            for r4 in range(r3+1, n_all-2):\n",
    "                for r5 in range(r4+1, n_all-1):\n",
    "                    for r6 in range(r5+1, n_all):\n",
    "                        rs[0] = [r1, r2, r3, r4, r5, r6]\n",
    "                        comb_costs[0] = adding(info[0], rs[0], 1)\n",
    "                        if comb_costs[0] <= max_cost:\n",
    "                            for race in range(1,n_races):\n",
    "                                rs[race] = rs[0]\n",
    "                            comb_scores[0] = adding(info[0], rs[0], 2)\n",
    "                            loops = initialise(n_races, 0)\n",
    "                            loops_complete = initialise(n_races, False)\n",
    "                            loops_complete[0] = True\n",
    "                            if n_subs != 0:\n",
    "                                for race in range(1,n_races):\n",
    "                                    loops_complete[race] = False\n",
    "                            else:\n",
    "                                for race in range(1,n_races):\n",
    "                                    loops_complete[race] = True\n",
    "                            loops_finished = False\n",
    "                            while loops_finished == False:\n",
    "                                s = setup(loops, n_races)\n",
    "                                s_complete = initialise(n_races, False)\n",
    "                                s_complete[0] = True\n",
    "                                s_complete = complete_checker(s, s_complete, loops, n_races, n_all)\n",
    "                                s_finished = False\n",
    "                                unique = checker(rs, s, loops)\n",
    "                                if unique == True:\n",
    "                                    while s_finished == False:\n",
    "                                        riders = setup(loops, n_races)\n",
    "                                        riders_complete = initialise(n_races, False)\n",
    "                                        riders_complete[0] = True\n",
    "                                        riders_complete = complete_checker(riders, riders_complete, loops, n_races, n_riders)\n",
    "                                        riders_finished = False\n",
    "                                        while riders_finished == False:\n",
    "                                            comb_total = 0\n",
    "                                            for race in range(1,n_races):\n",
    "                                                rs[race] = new_rs(rs[race-1], s[race], riders[race])\n",
    "                                                repeat = no_repeat(rs[race], n_riders)\n",
    "                                                if repeat == False:\n",
    "                                                    comb_costs[race] = adding(info[race], rs[race], 1)\n",
    "                                                    cost_check = cost_checker(comb_costs[race], max_cost)\n",
    "                                                    if cost_check == True:\n",
    "                                                        comb_scores[race] = adding(info[race], rs[race], 2)\n",
    "                                                        comb_total += comb_scores[race]\n",
    "                                                else:\n",
    "                                                    break\n",
    "                                            comb_total += comb_scores[0]\n",
    "                                            if comb_total > squad_total:\n",
    "                                                for race in range(n_races):\n",
    "                                                    squad_teams[race] = team(info[race], rs[race])\n",
    "                                                    squad_scores[race] = comb_scores[race]\n",
    "                                                    squad_costs[race] = comb_costs[race]\n",
    "                                                squad_total = comb_total\n",
    "                                            riders_finished = finished_checker(riders_complete, n_races)\n",
    "                                            if riders_finished == False:\n",
    "                                                race_index = race_determine(riders_complete, n_races)\n",
    "                                                r_riders = index(riders[race_index], loops[race_index], n_riders)\n",
    "                                                riders[race_index] = iterate(riders[race_index], loops[race_index], r_riders)\n",
    "                                                riders = reset(riders, loops, race_index, n_races)\n",
    "                                                riders_complete = complete_checker(riders, riders_complete, loops, n_races, n_riders)\n",
    "                                        s_finished = finished_checker(s_complete, n_races)\n",
    "                                        if s_finished == False:\n",
    "                                            race_index = race_determine(s_complete, n_races)\n",
    "                                            r_s = index(s[race_index], loops[race_index], n_all)\n",
    "                                            s[race_index] = iterate(s[race_index], loops[race_index], r_s)\n",
    "                                            s = reset(s, loops, race_index, n_races)\n",
    "                                            s_complete = complete_checker(s, s_complete, loops, n_races, n_all)\n",
    "                                loops_finished = finished_checker(loops_complete, n_races)\n",
    "                                if loops_finished == False:\n",
    "                                    loop_index = race_determine(loops_complete, n_races)\n",
    "                                    loops = loops_iterate(loops, n_races, loop_index)\n",
    "                                    loops_complete = loops_complete_checker(loops, loops_complete, n_riders, n_races, loop_index, n_subs)\n",
    "    \n",
    "print('Evaluation of all combinations complete.')"
   ]
  },
  {
   "cell_type": "code",
   "execution_count": 48,
   "metadata": {},
   "outputs": [],
   "source": [
    "out_file = open(str(race_name) + '_' + str(gender) + '_US.txt', 'w')\n",
    "\n",
    "out_file.write('The Ultimate Squad scored ' + str(squad_total) + ' points.' + '\\n' + '\\n')\n",
    "for race in range(n_races):\n",
    "    out_file.write('The team for ' + str(races[race]) + ' was:' + '\\n')\n",
    "    for rider in range(n_riders):\n",
    "        out_file.write(str(squad_teams[race][rider]) + '\\n')\n",
    "    out_file.write('Scoring ' + str(squad_scores[race]) + ' points.' + '\\n')\n",
    "    out_file.write('Costing ' + str(squad_costs[race]) + ' credits.' + '\\n' + '\\n')\n",
    "\n",
    "out_file.close()"
   ]
  }
 ],
 "metadata": {
  "kernelspec": {
   "display_name": "Python 3",
   "language": "python",
   "name": "python3"
  },
  "language_info": {
   "codemirror_mode": {
    "name": "ipython",
    "version": 3
   },
   "file_extension": ".py",
   "mimetype": "text/x-python",
   "name": "python",
   "nbconvert_exporter": "python",
   "pygments_lexer": "ipython3",
   "version": "3.7.6"
  }
 },
 "nbformat": 4,
 "nbformat_minor": 4
}
