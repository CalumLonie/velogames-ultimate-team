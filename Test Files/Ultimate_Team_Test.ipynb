{
 "cells": [
  {
   "cell_type": "code",
   "execution_count": 12,
   "metadata": {},
   "outputs": [],
   "source": [
    "info = [\n",
    "    {'Name' : 'Tom Dumoulin',       'Number' : '01', 'Cost' : 10, 'Points' : 50},\n",
    "    {'Name' : 'Esteban Chaves',     'Number' : '02', 'Cost' : 9,  'Points' : 60},\n",
    "    {'Name' : 'Dan Martin',         'Number' : '03', 'Cost' : 8,  'Points' : 70},\n",
    "    {'Name' : 'Simon Yates',        'Number' : '04', 'Cost' : 7,  'Points' : 50},\n",
    "    {'Name' : 'Richie Porte',       'Number' : '05', 'Cost' : 6,  'Points' : 40},\n",
    "    {'Name' : 'Domenico Pozzovivo', 'Number' : '06', 'Cost' : 5,  'Points' : 35},\n",
    "    {'Name' : 'Adam Yates',         'Number' : '07', 'Cost' : 4,  'Points' : 50},\n",
    "    {'Name' : 'Chris Froome',       'Number' : '08', 'Cost' : 3,  'Points' : 55},\n",
    "    {'Name' : 'Cadel Evans',        'Number' : '09', 'Cost' : 2,  'Points' : 45},\n",
    "    {'Name' : 'Joaquim Rodriguez',  'Number' : '10', 'Cost' : 1,  'Points' : 60}\n",
    "]"
   ]
  },
  {
   "cell_type": "code",
   "execution_count": 14,
   "metadata": {},
   "outputs": [
    {
     "name": "stdout",
     "output_type": "stream",
     "text": [
      "Esteban Chaves\n",
      "Dan Martin\n",
      "Joaquim Rodriguez\n",
      "This team scored 190 points.\n",
      "And cost 18 credits.\n"
     ]
    }
   ],
   "source": [
    "team_score = 0\n",
    "team_riders = []\n",
    "\n",
    "for r1 in range(8):\n",
    "    for r2 in range(r1+1,9):\n",
    "        for r3 in range(r2+1,10):       \n",
    "            comb_cost = info[r1]['Cost'] + info[r2]['Cost'] + info[r3]['Cost']\n",
    "            if comb_cost <= 18:\n",
    "                comb_score = info[r1]['Points'] + info[r2]['Points'] + info[r3]['Points']\n",
    "                if comb_score > team_score:\n",
    "                    team_score = comb_score\n",
    "                    team_cost = comb_cost\n",
    "                    team_riders = [info[r1]['Name'], info[r2]['Name'], info[r3]['Name']]\n",
    "                \n",
    "for rider in team_riders:\n",
    "    print(rider)\n",
    "print('This team scored ' + str(team_score) + ' points.')\n",
    "print('And cost ' + str(team_cost) + ' credits.')"
   ]
  },
  {
   "cell_type": "code",
   "execution_count": 16,
   "metadata": {},
   "outputs": [],
   "source": [
    "set_score = [0, 0, 0]\n",
    "set_riders = [[], [], []]\n",
    "\n",
    "for r1 in range(8):\n",
    "    for r2 in range(r1+1,9):\n",
    "        for r3 in range(r2+1,10):\n",
    "            comb_cost = info[r1]['Cost'] + info[r2]['Cost'] + info[r3]['Cost']\n",
    "            if comb_cost <= 18:\n",
    "                comb_score = info[r1]['Points'] + info[r2]['Points'] + info[r3]['Points']\n",
    "                if comb_score > set_score[0]:\n",
    "                    set_score[2] = set_score[1]\n",
    "                    set_score[1] = set_score[0]\n",
    "                    set_score[0] = comb_score\n",
    "                    set_riders[2] = set_riders[1]\n",
    "                    set_riders[1] = set_riders[0]\n",
    "                    set_riders[0] = [info[r1]['Name'], info[r2]['Name'], info[r3]['Name']]\n",
    "                elif comb_score > set_score[1]:\n",
    "                    set_score[2] = set_score[1]\n",
    "                    set_score[1] = comb_score\n",
    "                    set_riders[2] = set_riders[1]\n",
    "                    set_riders[1] = [info[r1]['Name'], info[r2]['Name'], info[r3]['Name']]\n",
    "                elif comb_score > set_score[2]:\n",
    "                    set_score[2] = comb_score\n",
    "                    set_riders[2] = [info[r1]['Name'], info[r2]['Name'], info[r3]['Name']]\n",
    "                    \n",
    "print('The best team is:')\n",
    "for rider in range(3):\n",
    "    print(set_riders[0][rider])\n",
    "print('Scoring ' + str(set_score[0]) + ' points.' + '\\n')\n",
    "print('The second best team is:')\n",
    "for rider in range(3):\n",
    "    print(set_riders[1][rider])\n",
    "print('Scoring ' + str(set_score[1]) + ' points.' + '\\n')\n",
    "print('The third best team is:')\n",
    "for rider in range(3):\n",
    "    print(set_riders[2][rider])\n",
    "print('Scoring ' + str(set_score[2]) + ' points.' + '\\n')"
   ]
  },
  {
   "cell_type": "code",
   "execution_count": 33,
   "metadata": {},
   "outputs": [],
   "source": [
    "def assignment (set, comb, number_riders, index):\n",
    "    n = number_riders - index - 1\n",
    "    if n != 0:\n",
    "        for t in range(n):\n",
    "            set[n-t] = set[n-t-1]\n",
    "    set[index] = comb\n",
    "    return set"
   ]
  },
  {
   "cell_type": "code",
   "execution_count": 58,
   "metadata": {},
   "outputs": [
    {
     "name": "stdout",
     "output_type": "stream",
     "text": [
      "Team number 1:\n",
      "Esteban Chaves\n",
      "Dan Martin\n",
      "Joaquim Rodriguez\n",
      "Scoring 190 points.\n",
      "\n",
      "Team number 2:\n",
      "Dan Martin\n",
      "Chris Froome\n",
      "Joaquim Rodriguez\n",
      "Scoring 185 points.\n",
      "\n",
      "Team number 3:\n",
      "Dan Martin\n",
      "Adam Yates\n",
      "Joaquim Rodriguez\n",
      "Scoring 180 points.\n",
      "\n"
     ]
    }
   ],
   "source": [
    "number_riders = 3\n",
    "set_scores = [0, 0, 0]\n",
    "set_riders = [[], [], []]\n",
    "\n",
    "for r1 in range(8):\n",
    "    for r2 in range(r1+1,9):\n",
    "        for r3 in range(r2+1,10):\n",
    "            comb_cost = info[r1]['Cost'] + info[r2]['Cost'] + info[r3]['Cost']\n",
    "            if comb_cost <= 18:\n",
    "                comb_score = info[r1]['Points'] + info[r2]['Points'] + info[r3]['Points']\n",
    "                comb_riders = [info[r1]['Name'], info[r2]['Name'], info[r3]['Name']]\n",
    "                replaced = False\n",
    "                for index in range(number_riders):\n",
    "                    if comb_score > set_scores[index] and not replaced:\n",
    "                        set_scores = assignment(set_scores, comb_score, number_riders, index)\n",
    "                        set_riders = assignment(set_riders, comb_riders, number_riders, index)\n",
    "                        replaced = True\n",
    "                        \n",
    "for team in range(3):\n",
    "    print('Team number ' + str(team+1) + ':')\n",
    "    for rider in range(3):\n",
    "        print(set_riders[team][rider])\n",
    "    print('Scoring ' + str(set_scores[team]) + ' points.' + '\\n')"
   ]
  },
  {
   "cell_type": "code",
   "execution_count": 56,
   "metadata": {},
   "outputs": [
    {
     "name": "stdout",
     "output_type": "stream",
     "text": [
      "[50, 0, 0]\n",
      "[190, 185, 180]\n",
      "True\n"
     ]
    }
   ],
   "source": [
    "test_scores = assignment([0,0,0], 50, 3, 0)\n",
    "print(test_scores)\n",
    "print(set_scores)\n",
    "print(test_bool)"
   ]
  },
  {
   "cell_type": "code",
   "execution_count": 59,
   "metadata": {
    "scrolled": true
   },
   "outputs": [
    {
     "name": "stdout",
     "output_type": "stream",
     "text": [
      "['Esteban Chaves', 'Dan Martin', 'Joaquim Rodriguez']\n",
      "['Dan Martin', 'Chris Froome', 'Joaquim Rodriguez']\n",
      "['Dan Martin', 'Adam Yates', 'Joaquim Rodriguez']\n",
      "Esteban Chaves\n",
      "Dan Martin\n",
      "Joaquim Rodriguez\n"
     ]
    }
   ],
   "source": [
    "print(set_riders[0])\n",
    "print(set_riders[1])\n",
    "print(set_riders[2])\n",
    "for rider in range(3):\n",
    "    print(set_riders[0][rider])"
   ]
  },
  {
   "cell_type": "code",
   "execution_count": null,
   "metadata": {},
   "outputs": [],
   "source": [
    "scores_file.open('scores.txt', 'r')\n",
    "teams_file.open('teams.txt', 'r')\n",
    "\n",
    "for l in range():\n",
    "    line = scores_file.readline()\n",
    "    \n",
    "\n",
    "scores_file.close()\n",
    "teams_file.close()"
   ]
  },
  {
   "cell_type": "code",
   "execution_count": 75,
   "metadata": {},
   "outputs": [],
   "source": [
    "# Need to check every combination\n",
    "# Combination of 3 riders, with a max cost of 18\n",
    "teams = []\n",
    "scores = []\n",
    "\n",
    "for r1 in range(8):\n",
    "    for r2 in range(r1+1,9):\n",
    "        for r3 in range(r2+1,10):       \n",
    "            team_cost = info[r1]['Cost'] + info[r2]['Cost'] + info[r3]['Cost']\n",
    "            if team_cost <= 18:\n",
    "                team_score = info[r1]['Points'] + info[r2]['Points'] + info[r3]['Points']\n",
    "                team_riders = [info[r1]['Name'], info[r2]['Name'], info[r3]['Name']]\n",
    "                teams.append(team_riders)\n",
    "                scores.append(team_score)"
   ]
  },
  {
   "cell_type": "code",
   "execution_count": 77,
   "metadata": {
    "scrolled": true
   },
   "outputs": [
    {
     "name": "stdout",
     "output_type": "stream",
     "text": [
      "The ultimate team is:\n",
      "Esteban Chaves\n",
      "Dan Martin\n",
      "Joaquim Rodriguez\n",
      "With an overall score of 190.\n"
     ]
    }
   ],
   "source": [
    "number = scores.index(max(scores))\n",
    "names = teams[number]\n",
    "\n",
    "print('The ultimate team is:')\n",
    "for t in range(3):\n",
    "    print(names[t])\n",
    "print('With an overall score of ' + str(scores[number]) + '.')"
   ]
  },
  {
   "cell_type": "code",
   "execution_count": 2,
   "metadata": {},
   "outputs": [
    {
     "name": "stdout",
     "output_type": "stream",
     "text": [
      "['Joaquim Rodriguez', 'Esteban Chaves', 'Dan Martin']\n"
     ]
    }
   ],
   "source": [
    "teams = [\n",
    "    [info[0]['Name'], info[1]['Name'], info[2]['Name']],\n",
    "    [info[3]['Name'], info[4]['Name'], info[5]['Name']],\n",
    "    [info[6]['Name'], info[7]['Name'], info[8]['Name']],\n",
    "    [info[9]['Name'], info[1]['Name'], info[2]['Name']]\n",
    "]\n",
    "\n",
    "team1_cost = info[0]['Cost'] + info[1]['Cost'] + info[2]['Cost']\n",
    "team1_points = info[0]['Points'] + info[1]['Points'] + info[2]['Points']\n",
    "\n",
    "team2_cost = info[3]['Cost'] + info[4]['Cost'] + info[5]['Cost']\n",
    "team2_points = info[3]['Points'] + info[4]['Points'] + info[5]['Points']\n",
    "\n",
    "team3_cost = info[6]['Cost'] + info[7]['Cost'] + info[8]['Cost']\n",
    "team3_points = info[6]['Points'] + info[7]['Points'] + info[8]['Points']\n",
    "\n",
    "team4_cost = info[9]['Cost'] + info[1]['Cost'] + info[2]['Cost']\n",
    "team4_points = info[9]['Points'] + info[1]['Points'] + info[2]['Points']\n",
    "\n",
    "scores = [team1_points, team2_points, team3_points, team4_points]\n",
    "best = scores.index(max(scores))\n",
    "\n",
    "print(teams[best])"
   ]
  },
  {
   "cell_type": "code",
   "execution_count": 45,
   "metadata": {},
   "outputs": [
    {
     "name": "stdout",
     "output_type": "stream",
     "text": [
      "The best team is: \n",
      "Joaquim Rodriguez\n",
      "Esteban Chaves\n",
      "Dan Martin\n",
      "With a score of 190.\n"
     ]
    }
   ],
   "source": [
    "test = info[0]\n",
    "value = info[0]['Cost']\n",
    "#print(test)\n",
    "#print(value)\n",
    "\n",
    "# can also use the .get() function\n",
    "\n",
    "team_score = info[9]['Points'] + info[1]['Points'] + info[2]['Points']\n",
    "team_riders = [info[9]['Name'], info[1]['Name'], info[2]['Name']]\n",
    "\n",
    "results = [team_score, team_riders]\n",
    "names = results[1]\n",
    "\n",
    "print('The best team is: ')\n",
    "for j in range(3):\n",
    "    print(names[j])\n",
    "print('With a score of ' + str(results[0]) + '.')"
   ]
  },
  {
   "cell_type": "code",
   "execution_count": 61,
   "metadata": {},
   "outputs": [
    {
     "name": "stdout",
     "output_type": "stream",
     "text": [
      "Yes\n",
      "True\n"
     ]
    }
   ],
   "source": [
    "unique = True\n",
    "p = 5\n",
    "\n",
    "if unique and p == 5:\n",
    "    print('Yes')\n",
    "    \n",
    "rs = [1, 2, 3]\n",
    "for m in range(3):\n",
    "    for n in range(3):\n",
    "        if m != n and rs[m] == rs[n]:\n",
    "            unique = False\n",
    "            \n",
    "print(unique)"
   ]
  },
  {
   "cell_type": "code",
   "execution_count": 29,
   "metadata": {},
   "outputs": [],
   "source": [
    "test = True\n",
    "if not test:\n",
    "    print('This works.')"
   ]
  },
  {
   "cell_type": "code",
   "execution_count": 2,
   "metadata": {},
   "outputs": [],
   "source": [
    "import csv"
   ]
  },
  {
   "cell_type": "code",
   "execution_count": 6,
   "metadata": {},
   "outputs": [],
   "source": [
    "# Test special characters\n",
    "input_file = open('Test_Sprinter.txt', 'r')\n",
    "info = []\n",
    "l = 0\n",
    "\n",
    "data = csv.DictReader(input_file)\n",
    "for row in data:\n",
    "    info.append(row)\n",
    "    info[l]['Cost'] = int(info[l]['Cost'])\n",
    "    info[l]['Points'] = int(info[l]['Points'])\n",
    "    l += 1\n",
    "input_file.close()"
   ]
  },
  {
   "cell_type": "code",
   "execution_count": 8,
   "metadata": {},
   "outputs": [
    {
     "name": "stdout",
     "output_type": "stream",
     "text": [
      "Arnaud DÃ©mare\n"
     ]
    },
    {
     "ename": "NameError",
     "evalue": "name 'locale' is not defined",
     "output_type": "error",
     "traceback": [
      "\u001b[1;31m---------------------------------------------------------------------------\u001b[0m",
      "\u001b[1;31mNameError\u001b[0m                                 Traceback (most recent call last)",
      "\u001b[1;32m<ipython-input-8-db8b33c0c1c5>\u001b[0m in \u001b[0;36m<module>\u001b[1;34m\u001b[0m\n\u001b[0;32m      2\u001b[0m \u001b[0mprint\u001b[0m\u001b[1;33m(\u001b[0m\u001b[0mrider\u001b[0m\u001b[1;33m)\u001b[0m\u001b[1;33m\u001b[0m\u001b[1;33m\u001b[0m\u001b[0m\n\u001b[0;32m      3\u001b[0m \u001b[1;33m\u001b[0m\u001b[0m\n\u001b[1;32m----> 4\u001b[1;33m \u001b[0mlocale\u001b[0m\u001b[1;33m.\u001b[0m\u001b[0mgetpreferredencoding\u001b[0m\u001b[1;33m(\u001b[0m\u001b[1;33m)\u001b[0m\u001b[1;33m\u001b[0m\u001b[1;33m\u001b[0m\u001b[0m\n\u001b[0m",
      "\u001b[1;31mNameError\u001b[0m: name 'locale' is not defined"
     ]
    }
   ],
   "source": [
    "rider = info[3]['Name']\n",
    "print(rider)"
   ]
  },
  {
   "cell_type": "code",
   "execution_count": 9,
   "metadata": {},
   "outputs": [
    {
     "data": {
      "text/plain": [
       "'cp1252'"
      ]
     },
     "execution_count": 9,
     "metadata": {},
     "output_type": "execute_result"
    }
   ],
   "source": [
    "import locale\n",
    "locale.getpreferredencoding()"
   ]
  }
 ],
 "metadata": {
  "kernelspec": {
   "display_name": "Python 3",
   "language": "python",
   "name": "python3"
  },
  "language_info": {
   "codemirror_mode": {
    "name": "ipython",
    "version": 3
   },
   "file_extension": ".py",
   "mimetype": "text/x-python",
   "name": "python",
   "nbconvert_exporter": "python",
   "pygments_lexer": "ipython3",
   "version": "3.7.6"
  }
 },
 "nbformat": 4,
 "nbformat_minor": 4
}
