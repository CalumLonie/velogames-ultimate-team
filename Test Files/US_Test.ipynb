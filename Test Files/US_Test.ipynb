{
 "cells": [
  {
   "cell_type": "code",
   "execution_count": 2,
   "metadata": {},
   "outputs": [],
   "source": [
    "import csv"
   ]
  },
  {
   "cell_type": "code",
   "execution_count": 3,
   "metadata": {},
   "outputs": [],
   "source": [
    "race_name = 'Squad_Test'\n",
    "\n",
    "n_riders = 6\n",
    "n_subs = 2\n",
    "gender = 'W'\n",
    "max_cost = 54"
   ]
  },
  {
   "cell_type": "code",
   "execution_count": 4,
   "metadata": {},
   "outputs": [],
   "source": [
    "def initialise (n_teams, default):\n",
    "    set = []\n",
    "    for d in range(n_teams):\n",
    "        set.append(default)\n",
    "    return set"
   ]
  },
  {
   "cell_type": "code",
   "execution_count": 5,
   "metadata": {},
   "outputs": [],
   "source": [
    "def checker (rs, s, n_loops):\n",
    "    unique = True\n",
    "    for sub in range(n_loops):\n",
    "        for rider in range(n_riders):\n",
    "            if s[sub] == rs[rider]:\n",
    "                unique = False\n",
    "                break\n",
    "    \n",
    "    return unique"
   ]
  },
  {
   "cell_type": "code",
   "execution_count": 6,
   "metadata": {},
   "outputs": [],
   "source": [
    "def new_rs (rs, s, index):\n",
    "    rs_sub = []\n",
    "    for r in rs:\n",
    "        rs_sub.append(r)\n",
    "    for sub in range(len(s)):\n",
    "        rs_sub[index[sub]] = s[sub]\n",
    "    rs_new = sorted(rs_sub)\n",
    "    return rs_new"
   ]
  },
  {
   "cell_type": "code",
   "execution_count": 7,
   "metadata": {},
   "outputs": [],
   "source": [
    "def adding (info, rs, col):\n",
    "    sub = 0\n",
    "    for r in rs:\n",
    "        sub += info[r][col]\n",
    "        \n",
    "    return sub"
   ]
  },
  {
   "cell_type": "code",
   "execution_count": 8,
   "metadata": {},
   "outputs": [],
   "source": [
    "def cost_checker (comb, cost):\n",
    "    if comb > cost:\n",
    "        check = False\n",
    "    else:\n",
    "        check = True\n",
    "        \n",
    "    return check"
   ]
  },
  {
   "cell_type": "code",
   "execution_count": 9,
   "metadata": {},
   "outputs": [],
   "source": [
    "def loop_setup (n_loops):\n",
    "    s = []\n",
    "    for n in range(n_loops):\n",
    "        s.append(n)\n",
    "    \n",
    "    return s"
   ]
  },
  {
   "cell_type": "code",
   "execution_count": 10,
   "metadata": {},
   "outputs": [],
   "source": [
    "def riders_iterate (riders, n_loops, n_riders):\n",
    "    counter = 0\n",
    "    \n",
    "    for n in range(n_loops):\n",
    "        if riders[n_loops-n-1] == n_riders-1:\n",
    "            counter += 1\n",
    "        else:\n",
    "            r = n_loops-n-1\n",
    "            break\n",
    "            \n",
    "    if counter == n_loops:\n",
    "        finished = True\n",
    "    else:\n",
    "        riders[r] = riders[r] + 1\n",
    "        for n in range(r+1,n_loops):\n",
    "            riders[n] = riders[n-1] + 1\n",
    "        finished = False\n",
    "    \n",
    "    return riders, finished"
   ]
  },
  {
   "cell_type": "code",
   "execution_count": 11,
   "metadata": {},
   "outputs": [],
   "source": [
    "def riders_loop (riders, riders_complete, n_loops, n_races, n_riders):\n",
    "    counter = 0\n",
    "    \n",
    "    for n in range(n_races):\n",
    "        if riders_complete[n_races-n-1] == True:\n",
    "            counter += 1\n",
    "        else:\n",
    "            index = n_races-n-1\n",
    "            break\n",
    "            \n",
    "    if counter == n_races:\n",
    "        riders_finished = True\n",
    "    else:\n",
    "        [riders[index], riders_complete[index]] = riders_iterate(riders[index], n_loops[index], n_riders)\n",
    "        for n in range(index+1,n_races):\n",
    "            riders[n] = loop_setup(n_loops[n])\n",
    "            riders_complete[n] = False\n",
    "        riders_finished = False\n",
    "    \n",
    "    return riders, riders_complete, riders_finished"
   ]
  },
  {
   "cell_type": "code",
   "execution_count": 12,
   "metadata": {},
   "outputs": [],
   "source": [
    "def s_iterate (s, n_loops, n_all):\n",
    "    counter = 0\n",
    "    \n",
    "    for n in range(n_loops):\n",
    "        if s[n_loops-n-1] == n_all-1:\n",
    "            counter += 1\n",
    "        else:\n",
    "            r = n_loops-n-1\n",
    "            break\n",
    "            \n",
    "    if counter == n_loops:\n",
    "        s_complete = True\n",
    "    else:\n",
    "        s[r] = s[r] + 1\n",
    "        for n in range(r+1,n_loops):\n",
    "            s[n] = s[n-1] + 1\n",
    "        s_complete = False\n",
    "    \n",
    "    return s, s_complete"
   ]
  },
  {
   "cell_type": "code",
   "execution_count": 13,
   "metadata": {},
   "outputs": [],
   "source": [
    "def s_loop (s, s_complete, n_loops, n_races, n_all):\n",
    "    counter = 0\n",
    "    \n",
    "    for n in range(n_races):\n",
    "        if s_complete[n_races-n-1] == True:\n",
    "            counter += 1\n",
    "        else:\n",
    "            index = n_races-n-1\n",
    "            break\n",
    "            \n",
    "    if counter == n_races:\n",
    "        s_finished = True\n",
    "    else:\n",
    "        [s[index], s_complete[index]] = s_iterate(s[index], n_loops[index], n_all)\n",
    "        for n in range(index+1,n_races):\n",
    "            s[n] = loop_setup(n_loops[n])\n",
    "            s_complete[n] = False\n",
    "        s_finished = False\n",
    "    \n",
    "    return s, s_complete, s_finished"
   ]
  },
  {
   "cell_type": "code",
   "execution_count": 14,
   "metadata": {},
   "outputs": [],
   "source": [
    "def loops_loop (n_loops, loops_complete, n_races, n_riders, n_subs):\n",
    "\n",
    "    if loops_complete[n_races-1] == False:\n",
    "        n_loops[n_races-1] += 1\n",
    "        if sum(n_loops) == n_subs or n_loops[n_races-1] == n_riders:\n",
    "            loops_complete[n_races-1] = True\n",
    "        loops_finished = False\n",
    "    else:\n",
    "        counter = 0\n",
    "        for n in range(n_races):\n",
    "            if loops_complete[n_races-n-1] == False:\n",
    "                index = n_races-n-1\n",
    "                break\n",
    "            else:\n",
    "                counter += 1\n",
    "    \n",
    "        if counter != n_races:\n",
    "            loops_finished = False\n",
    "            n_loops[index] += 1\n",
    "            for n in range(index+1,n_races):\n",
    "                n_loops[n] = 0\n",
    "\n",
    "            if n_loops[index] == n_riders:\n",
    "                loops_complete[index] = True\n",
    "            \n",
    "            if sum(n_loops[0:index+1]) == n_subs:\n",
    "                loops_complete[index] = True\n",
    "                for n in range(index+1,n_races):\n",
    "                    loops_complete[n] = True\n",
    "            else:\n",
    "                for n in range(index+1,n_races):\n",
    "                    loops_complete[n] = False\n",
    "        else:\n",
    "            loops_finished = True\n",
    "    \n",
    "    return n_loops, loops_complete, loops_finished"
   ]
  },
  {
   "cell_type": "code",
   "execution_count": 15,
   "metadata": {},
   "outputs": [],
   "source": [
    "def splitting (inter, races, n_all):\n",
    "    info = initialise(n_races, [])\n",
    "    l = 0\n",
    "    for race in races:\n",
    "        split = []\n",
    "        for row in range(n_all):\n",
    "            split.append([inter[row]['Names'], inter[row]['Cost'], inter[row][race]])\n",
    "        info[l] = split\n",
    "        l += 1\n",
    "        \n",
    "    return info"
   ]
  },
  {
   "cell_type": "code",
   "execution_count": 16,
   "metadata": {},
   "outputs": [],
   "source": [
    "def new_team (info, rs):\n",
    "    sub = []\n",
    "    for r in rs:\n",
    "        sub.append(info[r][0])\n",
    "        \n",
    "    return sub"
   ]
  },
  {
   "cell_type": "code",
   "execution_count": 17,
   "metadata": {},
   "outputs": [],
   "source": [
    "if gender == 'W':\n",
    "    races = ['Race1', 'Race2']\n",
    "if gender == 'M':\n",
    "    races = ['Race1', 'Race2', 'Race3']\n",
    "n_races = len(races)"
   ]
  },
  {
   "cell_type": "code",
   "execution_count": 18,
   "metadata": {},
   "outputs": [],
   "source": [
    "in_file = open(str(race_name) + '_' + str(gender) + '.txt', 'r')\n",
    "inter = []\n",
    "l = 0\n",
    "\n",
    "data = csv.DictReader(in_file)\n",
    "for row in data:\n",
    "    inter.append(row)\n",
    "    inter[l]['Cost'] = int(inter[l]['Cost'])\n",
    "    for race in races:\n",
    "        inter[l][race] = int(inter[l][race])\n",
    "    inter[l]['Total'] = int(inter[l]['Total'])\n",
    "    l += 1\n",
    "in_file.close()\n",
    "\n",
    "n_all = len(inter)\n",
    "\n",
    "info = splitting(inter, races, n_all)"
   ]
  },
  {
   "cell_type": "code",
   "execution_count": 19,
   "metadata": {},
   "outputs": [],
   "source": [
    "def main_loop (info, race, rs, s, s_complete, s_incomplete, n_loops, riders, riders_complete, riders_incomplete, n_riders, n_all):\n",
    "    unique = checker(rs[race-1], s, n_loops)\n",
    "    while unique == False and s_complete == False:\n",
    "        [s, s_complete] = s_iterate(s, n_loops, n_all)\n",
    "        unique = checker(rs[race-1], s, n_loops)\n",
    "    if s_complete == False:\n",
    "        rs[race] = new_rs(rs[race-1], s, riders)\n",
    "        comb_costs = adding(info, rs[race], 1)\n",
    "        cost_check = cost_checker(comb_costs, max_cost)\n",
    "        while cost_check == False and riders_complete == False:\n",
    "            [riders, riders_complete] = riders_iterate(riders, n_loops, n_riders)\n",
    "            if riders_complete == False:\n",
    "                rs[race] = new_rs(rs[race-1], s, riders)\n",
    "                comb_costs = adding(info, rs[race], 1)\n",
    "                cost_check = cost_checker(comb_costs, max_cost)\n",
    "            elif riders_complete == True:\n",
    "                riders_incomplete = True\n",
    "    else:\n",
    "        comb_costs = 1000\n",
    "        s_incomplete = True\n",
    "    \n",
    "    return rs, s, s_complete, s_incomplete, riders, riders_complete, riders_incomplete, comb_costs"
   ]
  },
  {
   "cell_type": "code",
   "execution_count": null,
   "metadata": {},
   "outputs": [
    {
     "name": "stdout",
     "output_type": "stream",
     "text": [
      "0\n"
     ]
    }
   ],
   "source": [
    "n_loops = initialise(n_races, 0)\n",
    "loops_complete = initialise(n_races, 0)\n",
    "loops_finished = False\n",
    "riders = initialise(n_races, [])\n",
    "riders_complete = initialise(n_races, 0)\n",
    "riders_finished = False\n",
    "s = initialise(n_races, [])\n",
    "s_complete = initialise(n_races, 0)\n",
    "s_finished = False\n",
    "rs = initialise(n_races, [])\n",
    "comb_costs = initialise(n_races, 0)\n",
    "comb_scores = initialise(n_races, 0)\n",
    "squad_teams = initialise(n_races, [])\n",
    "squad_scores = initialise(n_races, 0)\n",
    "squad_costs = initialise(n_races, 0)\n",
    "squad_total = 0\n",
    "    \n",
    "for r1 in range(n_all-5):\n",
    "    print(r1)\n",
    "    for r2 in range(r1+1,n_all-4):\n",
    "        for r3 in range(r2+1,n_all-3):\n",
    "            for r4 in range(r3+1,n_all-2):\n",
    "                for r5 in range(r4+1,n_all-1):\n",
    "                    for r6 in range(r5+1,n_all):\n",
    "                        rs[0] = [r1, r2, r3, r4, r5, r6]\n",
    "                        comb_costs[0] = adding(info[0], rs[0], 1)\n",
    "                        if comb_costs[0] <= max_cost:\n",
    "                            for race in range(1,n_races):\n",
    "                                rs[race] = rs[0]\n",
    "                            comb_scores[0] = adding(info[0], rs[0], 2)\n",
    "                            n_loops = initialise(n_races, 0)\n",
    "                            loops_complete[0] = True\n",
    "                            for race in range(1,n_races):\n",
    "                                loops_complete[race] = False\n",
    "                            loops_finished = False\n",
    "                            while loops_finished == False:\n",
    "                                #print(n_loops)\n",
    "                                #print(loops_complete)\n",
    "                                for race in range(1,n_races):\n",
    "                                    s[race] = loop_setup(n_loops[race])\n",
    "                                    s_complete[race] = False\n",
    "                                s_complete[0] = True\n",
    "                                s_finished = False\n",
    "                                while s_finished == False:\n",
    "                                    #print(s)\n",
    "                                    #print(s_complete)\n",
    "                                    s_incomplete = False\n",
    "                                    for race in range(1,n_races):\n",
    "                                        riders[race] = loop_setup(n_loops[race])\n",
    "                                        riders_complete[race] = False\n",
    "                                    riders_complete[0] = True\n",
    "                                    riders_finished = False\n",
    "                                    while riders_finished == False and s_incomplete == False:\n",
    "                                        #print(riders)\n",
    "                                        #print(riders_complete)\n",
    "                                        s_incomplete = False\n",
    "                                        riders_incomplete = False\n",
    "                                        for race in range(1,n_races):\n",
    "                                            [rs, s[race], s_complete[race], s_incomplete, riders[race], riders_complete[race], riders_incomplete, comb_costs[race]] = main_loop(info[race], race, rs, s[race], s_complete[race], s_incomplete, n_loops[race], riders[race], riders_complete[race], riders_incomplete, n_riders, n_all)\n",
    "                                            comb_scores[race] = adding(info[race], rs[race], 2)\n",
    "                                        comb_total = sum(comb_scores)\n",
    "                                        if comb_total > squad_total and s_incomplete == False and riders_incomplete == False:\n",
    "                                            for race in range(n_races):\n",
    "                                                squad_teams[race] = new_team(info[race], rs[race])\n",
    "                                                squad_scores[race] = comb_scores[race]\n",
    "                                                squad_costs[race] = comb_costs[race]\n",
    "                                            squad_total = comb_total\n",
    "                                        [riders, riders_complete, riders_finished] = riders_loop(riders, riders_complete, n_loops, n_races, n_riders)\n",
    "                                    [s, s_complete, s_finished] = s_loop(s, s_complete, n_loops, n_races, n_all)\n",
    "                                [n_loops, loops_complete, loops_finished] = loops_loop(n_loops, loops_complete, n_races, n_riders, n_subs)\n",
    "                                \n",
    "print('Evaluation of all combinations complete.')"
   ]
  },
  {
   "cell_type": "code",
   "execution_count": null,
   "metadata": {},
   "outputs": [],
   "source": [
    "out_file = open(str(race_name) + '_' + str(gender) + '_US.txt', 'w')\n",
    "\n",
    "out_file.write('The Ultimate Squad scored ' + str(squad_total) + ' points.' + '\\n' + '\\n')\n",
    "for race in range(n_races):\n",
    "    out_file.write('The team for ' + str(races[race]) + ' was:' + '\\n')\n",
    "    for rider in range(n_riders):\n",
    "        out_file.write(str(squad_teams[race][rider]) + '\\n')\n",
    "    out_file.write('Scoring ' + str(squad_scores[race]) + ' points.' + '\\n')\n",
    "    out_file.write('Costing ' + str(squad_costs[race]) + ' credits.' + '\\n' + '\\n')\n",
    "\n",
    "out_file.close()"
   ]
  },
  {
   "cell_type": "code",
   "execution_count": 22,
   "metadata": {},
   "outputs": [
    {
     "name": "stdout",
     "output_type": "stream",
     "text": [
      "True\n",
      "[0, 1, 2, 3, 7, 8]\n"
     ]
    }
   ],
   "source": [
    "rs = [0,1,2,5,7,8]\n",
    "s = [3]\n",
    "n_loops = 1\n",
    "riders = [3]\n",
    "unique = checker(rs, s, n_loops)\n",
    "print(unique)\n",
    "rs_2 = new_rs(rs, s, riders)\n",
    "print(rs_2)"
   ]
  }
 ],
 "metadata": {
  "kernelspec": {
   "display_name": "Python 3",
   "language": "python",
   "name": "python3"
  },
  "language_info": {
   "codemirror_mode": {
    "name": "ipython",
    "version": 3
   },
   "file_extension": ".py",
   "mimetype": "text/x-python",
   "name": "python",
   "nbconvert_exporter": "python",
   "pygments_lexer": "ipython3",
   "version": "3.7.6"
  }
 },
 "nbformat": 4,
 "nbformat_minor": 4
}
